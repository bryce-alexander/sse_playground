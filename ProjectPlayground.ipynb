{
 "cells": [
  {
   "cell_type": "markdown",
   "metadata": {},
   "source": [
    "## OpenAI Case Study - Experiment Playground"
   ]
  },
  {
   "cell_type": "markdown",
   "metadata": {},
   "source": [
    "### Imports & Config"
   ]
  },
  {
   "cell_type": "code",
   "execution_count": 12,
   "metadata": {},
   "outputs": [],
   "source": [
    "from assistant_helpers import create_assistant, prompt_assistant\n",
    "import pandas as pd"
   ]
  },
  {
   "cell_type": "markdown",
   "metadata": {},
   "source": [
    "### Naive Assistant"
   ]
  },
  {
   "cell_type": "code",
   "execution_count": 2,
   "metadata": {},
   "outputs": [],
   "source": [
    "# Create Naive Assistant\n",
    "naive_assistant = create_assistant()"
   ]
  },
  {
   "cell_type": "code",
   "execution_count": 8,
   "metadata": {},
   "outputs": [],
   "source": [
    "# Prompt Naive Assistant\n",
    "naive_response = prompt_assistant(naive_assistant, prompt='Tell me tina escobars favorite city and why', file_path='tse_takehome_dataset.csv')"
   ]
  },
  {
   "cell_type": "code",
   "execution_count": 9,
   "metadata": {},
   "outputs": [
    {
     "name": "stdout",
     "output_type": "stream",
     "text": [
      "\n",
      "Assistant Response: Let's first take a look at the contents of the uploaded file to find out details about Tina Escobar's favorite city. I'll start by checking the structure and contents of the file.\n",
      "\n",
      "Tool Call Input:\n",
      "# Let's first read the file to understand its contents and format.\n",
      "file_path = '/mnt/data/file-WMiQ1qtEx6sidyriwNX3YG'\n",
      "\n",
      "# Trying to determine the file type\n",
      "import magic\n",
      "\n",
      "file_type = magic.from_file(file_path, mime=True)\n",
      "file_type\n",
      "\n",
      "Assistant Response: It seems that the `magic` library isn't available in this environment, so I'll take a different approach to determine the format of the uploaded file. I'll attempt to open it as a text file first, since text formats like CSV and JSON are common. Let's see what it contains.\n",
      "\n",
      "Tool Call Input:\n",
      "# Attempting to read the first few lines of the file to determine its format.\n",
      "try:\n",
      "    with open(file_path, 'r') as file:\n",
      "        # Read the first 512 characters to guess the format\n",
      "        content_preview = file.read(512)\n",
      "except Exception as e:\n",
      "    content_preview = str(e)\n",
      "\n",
      "content_preview\n",
      "\n",
      "Assistant Response: The file appears to be a CSV file containing various personal details, including a \"favourite_city_and_why\" field. Let's load the entire file to locate information specifically about Tina Escobar's favorite city and the reason she likes it.\n",
      "\n",
      "Tool Call Input:\n",
      "import pandas as pd\n",
      "\n",
      "# Reading the CSV file into a pandas DataFrame\n",
      "df = pd.read_csv(file_path)\n",
      "\n",
      "# Display the first few rows of the DataFrame to locate the information for Tina Escobar\n",
      "df.head()\n",
      "\n",
      "Assistant Response: Tina Escobar's favorite city is New York. She likes it because of its vibrant city life and the various opportunities it offers for exploration and activity.\n"
     ]
    }
   ],
   "source": [
    "# Print conversation output  DO NOT RERUN!!!!!!!!!!!!!!!!!!!!!!!!!!!!!\n",
    "print(naive_response[0])"
   ]
  },
  {
   "cell_type": "code",
   "execution_count": 13,
   "metadata": {},
   "outputs": [
    {
     "data": {
      "text/html": [
       "<div>\n",
       "<style scoped>\n",
       "    .dataframe tbody tr th:only-of-type {\n",
       "        vertical-align: middle;\n",
       "    }\n",
       "\n",
       "    .dataframe tbody tr th {\n",
       "        vertical-align: top;\n",
       "    }\n",
       "\n",
       "    .dataframe thead th {\n",
       "        text-align: right;\n",
       "    }\n",
       "</style>\n",
       "<table border=\"1\" class=\"dataframe\">\n",
       "  <thead>\n",
       "    <tr style=\"text-align: right;\">\n",
       "      <th></th>\n",
       "      <th>date</th>\n",
       "      <th>name</th>\n",
       "      <th>company_name</th>\n",
       "      <th>description_of_company</th>\n",
       "      <th>favourite_memory</th>\n",
       "      <th>favourite_city_and_why</th>\n",
       "      <th>favourite_food_and_why</th>\n",
       "      <th>occupation</th>\n",
       "      <th>description_of_job</th>\n",
       "      <th>experience_relevant_to_job</th>\n",
       "      <th>growth_plan</th>\n",
       "    </tr>\n",
       "  </thead>\n",
       "  <tbody>\n",
       "    <tr>\n",
       "      <th>0</th>\n",
       "      <td>2023-08-13</td>\n",
       "      <td>James Padilla</td>\n",
       "      <td>Microsoft</td>\n",
       "      <td>An American multinational technology corporati...</td>\n",
       "      <td>Use world sure long fine dinner.</td>\n",
       "      <td>London, for its historical landmarks and diver...</td>\n",
       "      <td>Pizza, because it's versatile, delicious, and ...</td>\n",
       "      <td>Project Manager</td>\n",
       "      <td>Oversees projects from start to finish to ensu...</td>\n",
       "      <td>Game image scientist girl them receive.</td>\n",
       "      <td>Claim score out local meeting all.</td>\n",
       "    </tr>\n",
       "    <tr>\n",
       "      <th>1</th>\n",
       "      <td>2020-06-09</td>\n",
       "      <td>Eric Rogers</td>\n",
       "      <td>Facebook</td>\n",
       "      <td>An American online social media and social net...</td>\n",
       "      <td>Plant especially information clear.</td>\n",
       "      <td>Paris, for its beautiful architecture for its ...</td>\n",
       "      <td>Chocolate, because it's comforting, decadent, ...</td>\n",
       "      <td>Product Manager</td>\n",
       "      <td>Oversees the development of products from conc...</td>\n",
       "      <td>Decide despite then environment.</td>\n",
       "      <td>Enough order degree appear trial design ten no...</td>\n",
       "    </tr>\n",
       "    <tr>\n",
       "      <th>2</th>\n",
       "      <td>2023-12-17</td>\n",
       "      <td>Christopher King</td>\n",
       "      <td>Google</td>\n",
       "      <td>A multinational technology company that specia...</td>\n",
       "      <td>Thus bad front decade.</td>\n",
       "      <td>Tokyo, for its unique blend of traditional and...</td>\n",
       "      <td>Sushi, for its fresh flavors and artful presen...</td>\n",
       "      <td>Graphic Designer</td>\n",
       "      <td>Creates visual concepts to communicate ideas t...</td>\n",
       "      <td>Very development lead point.</td>\n",
       "      <td>Finally glass officer group fill house hard ca...</td>\n",
       "    </tr>\n",
       "    <tr>\n",
       "      <th>3</th>\n",
       "      <td>2023-02-22</td>\n",
       "      <td>Tina Escobar</td>\n",
       "      <td>Microsoft</td>\n",
       "      <td>An American multinational technology corporati...</td>\n",
       "      <td>Their small walk want blood worry wish.</td>\n",
       "      <td>New York, because of its vibrant city life and...</td>\n",
       "      <td>Pasta, for its comfort, versatility in dishes,...</td>\n",
       "      <td>Data Analyst</td>\n",
       "      <td>Interprets data and turns it into information ...</td>\n",
       "      <td>Raise physical show sing.</td>\n",
       "      <td>Computer either stand responsibility serve eve...</td>\n",
       "    </tr>\n",
       "    <tr>\n",
       "      <th>4</th>\n",
       "      <td>2019-12-05</td>\n",
       "      <td>Joshua Lewis</td>\n",
       "      <td>Google</td>\n",
       "      <td>An American multinational technology corporati...</td>\n",
       "      <td>Give friend green eat agent finally fine.</td>\n",
       "      <td>Paris, for its beautiful architecture for its ...</td>\n",
       "      <td>Pizza, because it's versatile, delicious, and ...</td>\n",
       "      <td>Software Engineer</td>\n",
       "      <td>Develops and maintains software applications.</td>\n",
       "      <td>Foot night morning anything.</td>\n",
       "      <td>Color wind look enjoy our task true thousand t...</td>\n",
       "    </tr>\n",
       "  </tbody>\n",
       "</table>\n",
       "</div>"
      ],
      "text/plain": [
       "         date              name company_name  \\\n",
       "0  2023-08-13     James Padilla    Microsoft   \n",
       "1  2020-06-09       Eric Rogers     Facebook   \n",
       "2  2023-12-17  Christopher King       Google   \n",
       "3  2023-02-22      Tina Escobar    Microsoft   \n",
       "4  2019-12-05      Joshua Lewis       Google   \n",
       "\n",
       "                              description_of_company  \\\n",
       "0  An American multinational technology corporati...   \n",
       "1  An American online social media and social net...   \n",
       "2  A multinational technology company that specia...   \n",
       "3  An American multinational technology corporati...   \n",
       "4  An American multinational technology corporati...   \n",
       "\n",
       "                            favourite_memory  \\\n",
       "0           Use world sure long fine dinner.   \n",
       "1        Plant especially information clear.   \n",
       "2                     Thus bad front decade.   \n",
       "3    Their small walk want blood worry wish.   \n",
       "4  Give friend green eat agent finally fine.   \n",
       "\n",
       "                              favourite_city_and_why  \\\n",
       "0  London, for its historical landmarks and diver...   \n",
       "1  Paris, for its beautiful architecture for its ...   \n",
       "2  Tokyo, for its unique blend of traditional and...   \n",
       "3  New York, because of its vibrant city life and...   \n",
       "4  Paris, for its beautiful architecture for its ...   \n",
       "\n",
       "                              favourite_food_and_why         occupation  \\\n",
       "0  Pizza, because it's versatile, delicious, and ...    Project Manager   \n",
       "1  Chocolate, because it's comforting, decadent, ...    Product Manager   \n",
       "2  Sushi, for its fresh flavors and artful presen...   Graphic Designer   \n",
       "3  Pasta, for its comfort, versatility in dishes,...       Data Analyst   \n",
       "4  Pizza, because it's versatile, delicious, and ...  Software Engineer   \n",
       "\n",
       "                                  description_of_job  \\\n",
       "0  Oversees projects from start to finish to ensu...   \n",
       "1  Oversees the development of products from conc...   \n",
       "2  Creates visual concepts to communicate ideas t...   \n",
       "3  Interprets data and turns it into information ...   \n",
       "4      Develops and maintains software applications.   \n",
       "\n",
       "                experience_relevant_to_job  \\\n",
       "0  Game image scientist girl them receive.   \n",
       "1         Decide despite then environment.   \n",
       "2             Very development lead point.   \n",
       "3                Raise physical show sing.   \n",
       "4             Foot night morning anything.   \n",
       "\n",
       "                                         growth_plan  \n",
       "0                 Claim score out local meeting all.  \n",
       "1  Enough order degree appear trial design ten no...  \n",
       "2  Finally glass officer group fill house hard ca...  \n",
       "3  Computer either stand responsibility serve eve...  \n",
       "4  Color wind look enjoy our task true thousand t...  "
      ]
     },
     "execution_count": 13,
     "metadata": {},
     "output_type": "execute_result"
    }
   ],
   "source": [
    "# Reproduce call to pandas from code interpreter\n",
    "df = pd.read_csv('tse_takehome_dataset.csv')\n",
    "\n",
    "df.head()"
   ]
  },
  {
   "cell_type": "markdown",
   "metadata": {},
   "source": [
    "### Improved Assistant - Better Prompt"
   ]
  },
  {
   "cell_type": "markdown",
   "metadata": {},
   "source": []
  },
  {
   "cell_type": "markdown",
   "metadata": {},
   "source": [
    "### Improved Assistant - Better Instructions"
   ]
  },
  {
   "cell_type": "code",
   "execution_count": null,
   "metadata": {},
   "outputs": [],
   "source": []
  },
  {
   "cell_type": "markdown",
   "metadata": {},
   "source": [
    "### Improved Assistant - Hybrid"
   ]
  },
  {
   "cell_type": "code",
   "execution_count": null,
   "metadata": {},
   "outputs": [],
   "source": []
  },
  {
   "cell_type": "markdown",
   "metadata": {},
   "source": [
    "### Advanced Assistant - Experimental?"
   ]
  },
  {
   "cell_type": "code",
   "execution_count": null,
   "metadata": {},
   "outputs": [],
   "source": []
  }
 ],
 "metadata": {
  "kernelspec": {
   "display_name": "openai_project",
   "language": "python",
   "name": "python3"
  },
  "language_info": {
   "codemirror_mode": {
    "name": "ipython",
    "version": 3
   },
   "file_extension": ".py",
   "mimetype": "text/x-python",
   "name": "python",
   "nbconvert_exporter": "python",
   "pygments_lexer": "ipython3",
   "version": "3.13.2"
  }
 },
 "nbformat": 4,
 "nbformat_minor": 2
}
