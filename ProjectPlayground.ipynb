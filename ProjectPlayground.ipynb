{
 "cells": [
  {
   "cell_type": "markdown",
   "metadata": {},
   "source": [
    "## OpenAI Case Study - Experiment Playground"
   ]
  },
  {
   "cell_type": "markdown",
   "metadata": {},
   "source": [
    "### Imports & Config"
   ]
  },
  {
   "cell_type": "code",
   "execution_count": 1,
   "metadata": {},
   "outputs": [],
   "source": [
    "from assistant_helpers import create_assistant, prompt_assistant, evaluate_method\n",
    "import pandas as pd\n",
    "\n",
    "df = pd.read_csv('tse_takehome_dataset.csv')"
   ]
  },
  {
   "cell_type": "markdown",
   "metadata": {},
   "source": [
    "### Naive Assistant"
   ]
  },
  {
   "cell_type": "markdown",
   "metadata": {},
   "source": [
    "Assistant with no instruction set and weak prompt."
   ]
  },
  {
   "cell_type": "code",
   "execution_count": 12,
   "metadata": {},
   "outputs": [],
   "source": [
    "# Create Naive Assistant\n",
    "naive_assistant = create_assistant()"
   ]
  },
  {
   "cell_type": "code",
   "execution_count": null,
   "metadata": {},
   "outputs": [],
   "source": [
    "# Prompt Naive Assistant\n",
    "naive_response = prompt_assistant(naive_assistant, prompt='Tell me tina escobars favorite city and why', file_path='tse_takehome_dataset.csv')"
   ]
  },
  {
   "cell_type": "code",
   "execution_count": null,
   "metadata": {},
   "outputs": [
    {
     "name": "stdout",
     "output_type": "stream",
     "text": [
      "\n",
      "Assistant Response: Let's first take a look at the contents of the uploaded file to find out details about Tina Escobar's favorite city. I'll start by checking the structure and contents of the file.\n",
      "\n",
      "Tool Call Input:\n",
      "# Let's first read the file to understand its contents and format.\n",
      "file_path = '/mnt/data/file-WMiQ1qtEx6sidyriwNX3YG'\n",
      "\n",
      "# Trying to determine the file type\n",
      "import magic\n",
      "\n",
      "file_type = magic.from_file(file_path, mime=True)\n",
      "file_type\n",
      "\n",
      "Assistant Response: It seems that the `magic` library isn't available in this environment, so I'll take a different approach to determine the format of the uploaded file. I'll attempt to open it as a text file first, since text formats like CSV and JSON are common. Let's see what it contains.\n",
      "\n",
      "Tool Call Input:\n",
      "# Attempting to read the first few lines of the file to determine its format.\n",
      "try:\n",
      "    with open(file_path, 'r') as file:\n",
      "        # Read the first 512 characters to guess the format\n",
      "        content_preview = file.read(512)\n",
      "except Exception as e:\n",
      "    content_preview = str(e)\n",
      "\n",
      "content_preview\n",
      "\n",
      "Assistant Response: The file appears to be a CSV file containing various personal details, including a \"favourite_city_and_why\" field. Let's load the entire file to locate information specifically about Tina Escobar's favorite city and the reason she likes it.\n",
      "\n",
      "Tool Call Input:\n",
      "import pandas as pd\n",
      "\n",
      "# Reading the CSV file into a pandas DataFrame\n",
      "df = pd.read_csv(file_path)\n",
      "\n",
      "# Display the first few rows of the DataFrame to locate the information for Tina Escobar\n",
      "df.head()\n",
      "\n",
      "Assistant Response: Tina Escobar's favorite city is New York. She likes it because of its vibrant city life and the various opportunities it offers for exploration and activity.\n"
     ]
    }
   ],
   "source": [
    "# Print conversation output  DO NOT RERUN!!!!!!!!!!!!!!!!!!!!!!!!!!!!!\n",
    "print(naive_response[0])"
   ]
  },
  {
   "cell_type": "code",
   "execution_count": null,
   "metadata": {},
   "outputs": [
    {
     "data": {
      "text/html": [
       "<div>\n",
       "<style scoped>\n",
       "    .dataframe tbody tr th:only-of-type {\n",
       "        vertical-align: middle;\n",
       "    }\n",
       "\n",
       "    .dataframe tbody tr th {\n",
       "        vertical-align: top;\n",
       "    }\n",
       "\n",
       "    .dataframe thead th {\n",
       "        text-align: right;\n",
       "    }\n",
       "</style>\n",
       "<table border=\"1\" class=\"dataframe\">\n",
       "  <thead>\n",
       "    <tr style=\"text-align: right;\">\n",
       "      <th></th>\n",
       "      <th>date</th>\n",
       "      <th>name</th>\n",
       "      <th>company_name</th>\n",
       "      <th>description_of_company</th>\n",
       "      <th>favourite_memory</th>\n",
       "      <th>favourite_city_and_why</th>\n",
       "      <th>favourite_food_and_why</th>\n",
       "      <th>occupation</th>\n",
       "      <th>description_of_job</th>\n",
       "      <th>experience_relevant_to_job</th>\n",
       "      <th>growth_plan</th>\n",
       "    </tr>\n",
       "  </thead>\n",
       "  <tbody>\n",
       "    <tr>\n",
       "      <th>0</th>\n",
       "      <td>2023-08-13</td>\n",
       "      <td>James Padilla</td>\n",
       "      <td>Microsoft</td>\n",
       "      <td>An American multinational technology corporati...</td>\n",
       "      <td>Use world sure long fine dinner.</td>\n",
       "      <td>London, for its historical landmarks and diver...</td>\n",
       "      <td>Pizza, because it's versatile, delicious, and ...</td>\n",
       "      <td>Project Manager</td>\n",
       "      <td>Oversees projects from start to finish to ensu...</td>\n",
       "      <td>Game image scientist girl them receive.</td>\n",
       "      <td>Claim score out local meeting all.</td>\n",
       "    </tr>\n",
       "    <tr>\n",
       "      <th>1</th>\n",
       "      <td>2020-06-09</td>\n",
       "      <td>Eric Rogers</td>\n",
       "      <td>Facebook</td>\n",
       "      <td>An American online social media and social net...</td>\n",
       "      <td>Plant especially information clear.</td>\n",
       "      <td>Paris, for its beautiful architecture for its ...</td>\n",
       "      <td>Chocolate, because it's comforting, decadent, ...</td>\n",
       "      <td>Product Manager</td>\n",
       "      <td>Oversees the development of products from conc...</td>\n",
       "      <td>Decide despite then environment.</td>\n",
       "      <td>Enough order degree appear trial design ten no...</td>\n",
       "    </tr>\n",
       "    <tr>\n",
       "      <th>2</th>\n",
       "      <td>2023-12-17</td>\n",
       "      <td>Christopher King</td>\n",
       "      <td>Google</td>\n",
       "      <td>A multinational technology company that specia...</td>\n",
       "      <td>Thus bad front decade.</td>\n",
       "      <td>Tokyo, for its unique blend of traditional and...</td>\n",
       "      <td>Sushi, for its fresh flavors and artful presen...</td>\n",
       "      <td>Graphic Designer</td>\n",
       "      <td>Creates visual concepts to communicate ideas t...</td>\n",
       "      <td>Very development lead point.</td>\n",
       "      <td>Finally glass officer group fill house hard ca...</td>\n",
       "    </tr>\n",
       "    <tr>\n",
       "      <th>3</th>\n",
       "      <td>2023-02-22</td>\n",
       "      <td>Tina Escobar</td>\n",
       "      <td>Microsoft</td>\n",
       "      <td>An American multinational technology corporati...</td>\n",
       "      <td>Their small walk want blood worry wish.</td>\n",
       "      <td>New York, because of its vibrant city life and...</td>\n",
       "      <td>Pasta, for its comfort, versatility in dishes,...</td>\n",
       "      <td>Data Analyst</td>\n",
       "      <td>Interprets data and turns it into information ...</td>\n",
       "      <td>Raise physical show sing.</td>\n",
       "      <td>Computer either stand responsibility serve eve...</td>\n",
       "    </tr>\n",
       "    <tr>\n",
       "      <th>4</th>\n",
       "      <td>2019-12-05</td>\n",
       "      <td>Joshua Lewis</td>\n",
       "      <td>Google</td>\n",
       "      <td>An American multinational technology corporati...</td>\n",
       "      <td>Give friend green eat agent finally fine.</td>\n",
       "      <td>Paris, for its beautiful architecture for its ...</td>\n",
       "      <td>Pizza, because it's versatile, delicious, and ...</td>\n",
       "      <td>Software Engineer</td>\n",
       "      <td>Develops and maintains software applications.</td>\n",
       "      <td>Foot night morning anything.</td>\n",
       "      <td>Color wind look enjoy our task true thousand t...</td>\n",
       "    </tr>\n",
       "  </tbody>\n",
       "</table>\n",
       "</div>"
      ],
      "text/plain": [
       "         date              name company_name  \\\n",
       "0  2023-08-13     James Padilla    Microsoft   \n",
       "1  2020-06-09       Eric Rogers     Facebook   \n",
       "2  2023-12-17  Christopher King       Google   \n",
       "3  2023-02-22      Tina Escobar    Microsoft   \n",
       "4  2019-12-05      Joshua Lewis       Google   \n",
       "\n",
       "                              description_of_company  \\\n",
       "0  An American multinational technology corporati...   \n",
       "1  An American online social media and social net...   \n",
       "2  A multinational technology company that specia...   \n",
       "3  An American multinational technology corporati...   \n",
       "4  An American multinational technology corporati...   \n",
       "\n",
       "                            favourite_memory  \\\n",
       "0           Use world sure long fine dinner.   \n",
       "1        Plant especially information clear.   \n",
       "2                     Thus bad front decade.   \n",
       "3    Their small walk want blood worry wish.   \n",
       "4  Give friend green eat agent finally fine.   \n",
       "\n",
       "                              favourite_city_and_why  \\\n",
       "0  London, for its historical landmarks and diver...   \n",
       "1  Paris, for its beautiful architecture for its ...   \n",
       "2  Tokyo, for its unique blend of traditional and...   \n",
       "3  New York, because of its vibrant city life and...   \n",
       "4  Paris, for its beautiful architecture for its ...   \n",
       "\n",
       "                              favourite_food_and_why         occupation  \\\n",
       "0  Pizza, because it's versatile, delicious, and ...    Project Manager   \n",
       "1  Chocolate, because it's comforting, decadent, ...    Product Manager   \n",
       "2  Sushi, for its fresh flavors and artful presen...   Graphic Designer   \n",
       "3  Pasta, for its comfort, versatility in dishes,...       Data Analyst   \n",
       "4  Pizza, because it's versatile, delicious, and ...  Software Engineer   \n",
       "\n",
       "                                  description_of_job  \\\n",
       "0  Oversees projects from start to finish to ensu...   \n",
       "1  Oversees the development of products from conc...   \n",
       "2  Creates visual concepts to communicate ideas t...   \n",
       "3  Interprets data and turns it into information ...   \n",
       "4      Develops and maintains software applications.   \n",
       "\n",
       "                experience_relevant_to_job  \\\n",
       "0  Game image scientist girl them receive.   \n",
       "1         Decide despite then environment.   \n",
       "2             Very development lead point.   \n",
       "3                Raise physical show sing.   \n",
       "4             Foot night morning anything.   \n",
       "\n",
       "                                         growth_plan  \n",
       "0                 Claim score out local meeting all.  \n",
       "1  Enough order degree appear trial design ten no...  \n",
       "2  Finally glass officer group fill house hard ca...  \n",
       "3  Computer either stand responsibility serve eve...  \n",
       "4  Color wind look enjoy our task true thousand t...  "
      ]
     },
     "execution_count": 9,
     "metadata": {},
     "output_type": "execute_result"
    }
   ],
   "source": [
    "# Reproduce call to pandas from code interpreter\n",
    "df.head()"
   ]
  },
  {
   "cell_type": "markdown",
   "metadata": {},
   "source": [
    "### Improved Assistant - Better Prompts"
   ]
  },
  {
   "cell_type": "markdown",
   "metadata": {},
   "source": [
    "Assistant with more specific prompt"
   ]
  },
  {
   "cell_type": "markdown",
   "metadata": {},
   "source": [
    "##### V1 - Instructs not to use dataframe output and to answer completely (Candidate)"
   ]
  },
  {
   "cell_type": "code",
   "execution_count": 55,
   "metadata": {},
   "outputs": [],
   "source": [
    "improved_prompt_assistant = create_assistant(temperature=0)"
   ]
  },
  {
   "cell_type": "code",
   "execution_count": 56,
   "metadata": {},
   "outputs": [],
   "source": [
    "# Prompt Naive Assistant\n",
    "improved_prompt_response = prompt_assistant(assistant=improved_prompt_assistant, prompt='Review the attached CSV and extract all information from all fields.  DO NOT use dataframe output to get your answer. Tell me Tina Escobars favorite city and why, including ALL details in the relevant field.', file_path='tse_takehome_dataset.csv')"
   ]
  },
  {
   "cell_type": "code",
   "execution_count": 57,
   "metadata": {},
   "outputs": [
    {
     "name": "stdout",
     "output_type": "stream",
     "text": [
      "\n",
      "Tool Call Input:\n",
      "import csv\n",
      "\n",
      "# Define the file path\n",
      "file_path = '/mnt/data/file-5TbUSgVXMd373LgxoRfLDD'\n",
      "\n",
      "# Read the CSV file and extract all information\n",
      "data = []\n",
      "with open(file_path, mode='r', encoding='utf-8') as file:\n",
      "    csv_reader = csv.reader(file)\n",
      "    headers = next(csv_reader)  # Read the header\n",
      "    for row in csv_reader:\n",
      "        data.append(row)\n",
      "\n",
      "# Find the row for Tina Escobar and extract her favorite city and the reason\n",
      "tina_favorite_city_info = None\n",
      "for row in data:\n",
      "    if \"Tina Escobar\" in row:\n",
      "        tina_favorite_city_info = row\n",
      "        break\n",
      "\n",
      "headers, tina_favorite_city_info\n",
      "\n",
      "Assistant Response: Tina Escobar's favorite city is New York. She loves it because of its vibrant city life and diversity. Additionally, New York is home to the largest metropolitan zoo in the US.\n"
     ]
    }
   ],
   "source": [
    "# Print conversation output  DO NOT RERUN!!!!!!!!!!!!!!!!!!!!!!!!!!!!!\n",
    "print(improved_prompt_response[0])"
   ]
  },
  {
   "cell_type": "code",
   "execution_count": null,
   "metadata": {},
   "outputs": [
    {
     "data": {
      "text/plain": [
       "[{'date': '2023-08-13',\n",
       "  'name': 'James Padilla',\n",
       "  'company_name': 'Microsoft',\n",
       "  'description_of_company': 'An American multinational technology corporation which produces computer software, consumer electronics, personal computers, and related services.',\n",
       "  'favourite_memory': 'Use world sure long fine dinner.',\n",
       "  'favourite_city_and_why': 'London, for its historical landmarks and diverse cultural scene. for its historical landmarks and diverse cultural scene. Additionally, London has hosted the Summer Olympics three times: in 1908, 1948, and 2012.',\n",
       "  'favourite_food_and_why': \"Pizza, because it's versatile, delicious, and brings people together.\",\n",
       "  'occupation': 'Project Manager',\n",
       "  'description_of_job': 'Oversees projects from start to finish to ensure they meet company goals.',\n",
       "  'experience_relevant_to_job': 'Game image scientist girl them receive.',\n",
       "  'growth_plan': 'Claim score out local meeting all.'},\n",
       " {'date': '2020-06-09',\n",
       "  'name': 'Eric Rogers',\n",
       "  'company_name': 'Facebook',\n",
       "  'description_of_company': 'An American online social media and social networking service owned by Meta Platforms.',\n",
       "  'favourite_memory': 'Plant especially information clear.',\n",
       "  'favourite_city_and_why': 'Paris, for its beautiful architecture for its beautiful architecture Additionally, The Eiffel Tower was supposed to be a temporary installation, intended to stand for 20 years after being constructed for the 1889 World Fair.',\n",
       "  'favourite_food_and_why': \"Chocolate, because it's comforting, decadent, and a sweet treat for any occasion.\",\n",
       "  'occupation': 'Product Manager',\n",
       "  'description_of_job': 'Oversees the development of products from conception through launch.',\n",
       "  'experience_relevant_to_job': 'Decide despite then environment.',\n",
       "  'growth_plan': 'Enough order degree appear trial design ten nothing be.'},\n",
       " {'date': '2023-12-17',\n",
       "  'name': 'Christopher King',\n",
       "  'company_name': 'Google',\n",
       "  'description_of_company': 'A multinational technology company that specializes in Internet-related services and products.',\n",
       "  'favourite_memory': 'Thus bad front decade.',\n",
       "  'favourite_city_and_why': \"Tokyo, for its unique blend of traditional and modern for its unique blend of traditional and modern Additionally, It's considered one of the world's most important and powerful global cities.\",\n",
       "  'favourite_food_and_why': 'Sushi, for its fresh flavors and artful presentation.',\n",
       "  'occupation': 'Graphic Designer',\n",
       "  'description_of_job': 'Creates visual concepts to communicate ideas that inspire, inform, or captivate consumers.',\n",
       "  'experience_relevant_to_job': 'Very development lead point.',\n",
       "  'growth_plan': 'Finally glass officer group fill house hard camera.'},\n",
       " {'date': '2023-02-22',\n",
       "  'name': 'Tina Escobar',\n",
       "  'company_name': 'Microsoft',\n",
       "  'description_of_company': 'An American multinational technology corporation which produces computer software, consumer electronics, personal computers, and related services.',\n",
       "  'favourite_memory': 'Their small walk want blood worry wish.',\n",
       "  'favourite_city_and_why': \"New York, because of its vibrant city life and diversity. because of its vibrant city life and diversity. Additionally, It's home to the largest metropolitan zoo in the US.\",\n",
       "  'favourite_food_and_why': 'Pasta, for its comfort, versatility in dishes, and rich flavors.',\n",
       "  'occupation': 'Data Analyst',\n",
       "  'description_of_job': 'Interprets data and turns it into information which can offer ways to improve a business.',\n",
       "  'experience_relevant_to_job': 'Raise physical show sing.',\n",
       "  'growth_plan': 'Computer either stand responsibility serve ever performance financial ahead cold.'},\n",
       " {'date': '2019-12-05',\n",
       "  'name': 'Joshua Lewis',\n",
       "  'company_name': 'Google',\n",
       "  'description_of_company': 'An American multinational technology corporation which produces computer software, consumer electronics, personal computers, and related services.',\n",
       "  'favourite_memory': 'Give friend green eat agent finally fine.',\n",
       "  'favourite_city_and_why': \"Paris, for its beautiful architecture for its beautiful architecture Additionally, Paris is known as the 'City of Light', originally because of its leading role during the Age of Enlightenment and more literally because Paris was one of the first large European cities to use gas street lighting on a grand scale on its boulevards and monuments.\",\n",
       "  'favourite_food_and_why': \"Pizza, because it's versatile, delicious, and brings people together.\",\n",
       "  'occupation': 'Software Engineer',\n",
       "  'description_of_job': 'Develops and maintains software applications.',\n",
       "  'experience_relevant_to_job': 'Foot night morning anything.',\n",
       "  'growth_plan': 'Color wind look enjoy our task true thousand themselves number.'},\n",
       " {'date': '2020-06-01',\n",
       "  'name': 'Samantha Becker',\n",
       "  'company_name': 'Facebook',\n",
       "  'description_of_company': 'An American online social media and social networking service owned by Meta Platforms.',\n",
       "  'favourite_memory': 'Page campaign interesting talk meeting mission oil.',\n",
       "  'favourite_city_and_why': \"Sydney, for its stunning harbour for its stunning harbour Additionally, Sydney Harbour Bridge is the world's largest steel arch bridge.\",\n",
       "  'favourite_food_and_why': \"Chocolate, because it's comforting, decadent, and a sweet treat for any occasion.\",\n",
       "  'occupation': 'Graphic Designer',\n",
       "  'description_of_job': 'Creates visual concepts to communicate ideas that inspire, inform, or captivate consumers.',\n",
       "  'experience_relevant_to_job': 'Write office tree.',\n",
       "  'growth_plan': 'Event hotel population hot prepare community group rule possible four.'},\n",
       " {'date': '2022-05-15',\n",
       "  'name': 'Jesse Crawford',\n",
       "  'company_name': 'Tesla',\n",
       "  'description_of_company': 'An American electric vehicle and clean energy company.',\n",
       "  'favourite_memory': 'Brother likely will radio far.',\n",
       "  'favourite_city_and_why': 'Sydney, for its stunning harbour for its stunning harbour Additionally, The Sydney Opera House design was inspired by orange segments.',\n",
       "  'favourite_food_and_why': 'Pasta, for its comfort, versatility in dishes, and rich flavors.',\n",
       "  'occupation': 'Software Engineer',\n",
       "  'description_of_job': 'Develops and maintains software applications.',\n",
       "  'experience_relevant_to_job': 'Former lawyer law note.',\n",
       "  'growth_plan': 'Certainly seat note carry positive.'},\n",
       " {'date': '2020-12-16',\n",
       "  'name': 'Ronald Jones',\n",
       "  'company_name': 'Facebook',\n",
       "  'description_of_company': 'An American online social media and social networking service owned by Meta Platforms.',\n",
       "  'favourite_memory': 'Yeah religious already style.',\n",
       "  'favourite_city_and_why': 'Sydney, for its stunning harbour for its stunning harbour Additionally, The Sydney Opera House design was inspired by orange segments.',\n",
       "  'favourite_food_and_why': \"Pizza, because it's versatile, delicious, and brings people together.\",\n",
       "  'occupation': 'Graphic Designer',\n",
       "  'description_of_job': 'Creates visual concepts to communicate ideas that inspire, inform, or captivate consumers.',\n",
       "  'experience_relevant_to_job': 'Pass he law garden player.',\n",
       "  'growth_plan': 'Central nice down general physical today enter character.'},\n",
       " {'date': '2019-06-16',\n",
       "  'name': 'Michael Ali',\n",
       "  'company_name': 'Google',\n",
       "  'description_of_company': 'A multinational technology company that specializes in Internet-related services and products.',\n",
       "  'favourite_memory': 'Rule she history claim.',\n",
       "  'favourite_city_and_why': 'London, for its historical landmarks and diverse cultural scene. for its historical landmarks and diverse cultural scene. Additionally, London has hosted the Summer Olympics three times: in 1908, 1948, and 2012.',\n",
       "  'favourite_food_and_why': 'Tacos, for their flavor-packed bites and customizable fillings.',\n",
       "  'occupation': 'Data Analyst',\n",
       "  'description_of_job': 'Interprets data and turns it into information which can offer ways to improve a business.',\n",
       "  'experience_relevant_to_job': 'Along system throw indicate our degree.',\n",
       "  'growth_plan': 'Involve behind he take hard civil.'},\n",
       " {'date': '2020-01-18',\n",
       "  'name': 'Kristy Alvarez',\n",
       "  'company_name': 'Microsoft',\n",
       "  'description_of_company': 'An American multinational technology corporation which produces computer software, consumer electronics, personal computers, and related services.',\n",
       "  'favourite_memory': 'Hear inside prove gun.',\n",
       "  'favourite_city_and_why': \"New York, because of its vibrant city life and diversity. because of its vibrant city life and diversity. Additionally, It's home to the largest metropolitan zoo in the US.\",\n",
       "  'favourite_food_and_why': 'Sushi, for its fresh flavors and artful presentation.',\n",
       "  'occupation': 'Data Analyst',\n",
       "  'description_of_job': 'Interprets data and turns it into information which can offer ways to improve a business.',\n",
       "  'experience_relevant_to_job': 'Form like professional sound theory live.',\n",
       "  'growth_plan': 'Movie management behavior impact sea appear.'},\n",
       " {'date': '2021-06-23',\n",
       "  'name': 'Joseph Martinez',\n",
       "  'company_name': 'Tesla',\n",
       "  'description_of_company': 'An American electric vehicle and clean energy company.',\n",
       "  'favourite_memory': 'Always successful indeed easy behavior growth.',\n",
       "  'favourite_city_and_why': 'Tokyo, for its unique blend of traditional and modern for its unique blend of traditional and modern Additionally, Tokyo was once known as Edo.',\n",
       "  'favourite_food_and_why': \"Pizza, because it's versatile, delicious, and brings people together.\",\n",
       "  'occupation': 'Project Manager',\n",
       "  'description_of_job': 'Oversees projects from start to finish to ensure they meet company goals.',\n",
       "  'experience_relevant_to_job': 'Power guy exactly catch staff sister herself.',\n",
       "  'growth_plan': 'Type along oil recent course.'},\n",
       " {'date': '2022-07-23',\n",
       "  'name': 'Dr. Joel Simmons',\n",
       "  'company_name': 'Google',\n",
       "  'description_of_company': 'A multinational technology company that specializes in Internet-related services and products.',\n",
       "  'favourite_memory': 'Appear building sense century military always.',\n",
       "  'favourite_city_and_why': 'London, for its historical landmarks and diverse cultural scene. for its historical landmarks and diverse cultural scene. Additionally, More than half of the London Underground network actually runs above ground.',\n",
       "  'favourite_food_and_why': 'Sushi, for its fresh flavors and artful presentation.',\n",
       "  'occupation': 'Data Analyst',\n",
       "  'description_of_job': 'Interprets data and turns it into information which can offer ways to improve a business.',\n",
       "  'experience_relevant_to_job': 'Player they station listen.',\n",
       "  'growth_plan': 'Certain hold effect top.'},\n",
       " {'date': '2023-05-06',\n",
       "  'name': 'Sarah King',\n",
       "  'company_name': 'Google',\n",
       "  'description_of_company': 'A multinational technology company that specializes in Internet-related services and products.',\n",
       "  'favourite_memory': 'Decision once that film team article.',\n",
       "  'favourite_city_and_why': 'Tokyo, for its unique blend of traditional and modern for its unique blend of traditional and modern Additionally, Tokyo was once known as Edo.',\n",
       "  'favourite_food_and_why': 'Pasta, for its comfort, versatility in dishes, and rich flavors.',\n",
       "  'occupation': 'Project Manager',\n",
       "  'description_of_job': 'Oversees projects from start to finish to ensure they meet company goals.',\n",
       "  'experience_relevant_to_job': 'One senior light popular resource.',\n",
       "  'growth_plan': 'Though production sell difference case.'},\n",
       " {'date': '2023-12-01',\n",
       "  'name': 'Sheila Bond',\n",
       "  'company_name': 'Amazon',\n",
       "  'description_of_company': 'An American multinational conglomerate which focuses on e-commerce, cloud computing, digital streaming, and artificial intelligence.',\n",
       "  'favourite_memory': 'House recent design indicate.',\n",
       "  'favourite_city_and_why': 'Tokyo, for its unique blend of traditional and modern for its unique blend of traditional and modern Additionally, Tokyo was once known as Edo.',\n",
       "  'favourite_food_and_why': \"Pizza, because it's versatile, delicious, and brings people together.\",\n",
       "  'occupation': 'Project Manager',\n",
       "  'description_of_job': 'Oversees projects from start to finish to ensure they meet company goals.',\n",
       "  'experience_relevant_to_job': 'Near indeed music boy now something cup.',\n",
       "  'growth_plan': 'Time sure popular them main anything ok beautiful.'},\n",
       " {'date': '2022-08-22',\n",
       "  'name': 'Michael Lewis',\n",
       "  'company_name': 'Amazon',\n",
       "  'description_of_company': 'An American multinational conglomerate which focuses on e-commerce, cloud computing, digital streaming, and artificial intelligence.',\n",
       "  'favourite_memory': 'Task single hold cut town reason economy.',\n",
       "  'favourite_city_and_why': 'London, for its historical landmarks and diverse cultural scene. for its historical landmarks and diverse cultural scene. Additionally, More than half of the London Underground network actually runs above ground.',\n",
       "  'favourite_food_and_why': 'Tacos, for their flavor-packed bites and customizable fillings.',\n",
       "  'occupation': 'Software Engineer',\n",
       "  'description_of_job': 'Develops and maintains software applications.',\n",
       "  'experience_relevant_to_job': 'Like site moment consumer.',\n",
       "  'growth_plan': 'Easy staff data say represent pretty central will their oil.'},\n",
       " {'date': '2022-02-24',\n",
       "  'name': 'Rachael Guerrero',\n",
       "  'company_name': 'Facebook',\n",
       "  'description_of_company': 'An American online social media and social networking service owned by Meta Platforms.',\n",
       "  'favourite_memory': 'Hard on single nor nor relate expect.',\n",
       "  'favourite_city_and_why': 'New York, because of its vibrant city life and diversity. because of its vibrant city life and diversity. Additionally, More than 800 languages are spoken in New York, making it the most linguistically diverse city in the world.',\n",
       "  'favourite_food_and_why': 'Tacos, for their flavor-packed bites and customizable fillings.',\n",
       "  'occupation': 'Graphic Designer',\n",
       "  'description_of_job': 'Creates visual concepts to communicate ideas that inspire, inform, or captivate consumers.',\n",
       "  'experience_relevant_to_job': 'Huge woman car environmental listen.',\n",
       "  'growth_plan': 'Final cup speak institution gas several place run then sell.'},\n",
       " {'date': '2019-05-04',\n",
       "  'name': 'Paul Vega',\n",
       "  'company_name': 'Facebook',\n",
       "  'description_of_company': 'An American online social media and social networking service owned by Meta Platforms.',\n",
       "  'favourite_memory': 'Peace court happy challenge your cause quickly.',\n",
       "  'favourite_city_and_why': 'London, for its historical landmarks and diverse cultural scene. for its historical landmarks and diverse cultural scene. Additionally, London has hosted the Summer Olympics three times: in 1908, 1948, and 2012.',\n",
       "  'favourite_food_and_why': 'Pasta, for its comfort, versatility in dishes, and rich flavors.',\n",
       "  'occupation': 'Data Analyst',\n",
       "  'description_of_job': 'Interprets data and turns it into information which can offer ways to improve a business.',\n",
       "  'experience_relevant_to_job': 'Simple oil room but.',\n",
       "  'growth_plan': 'Resource American himself cover black.'},\n",
       " {'date': '2023-08-15',\n",
       "  'name': 'Douglas Acosta',\n",
       "  'company_name': 'Microsoft',\n",
       "  'description_of_company': 'An American multinational technology corporation which produces computer software, consumer electronics, personal computers, and related services.',\n",
       "  'favourite_memory': 'Drop simply him newspaper use way clearly.',\n",
       "  'favourite_city_and_why': \"Tokyo, for its unique blend of traditional and modern for its unique blend of traditional and modern Additionally, It's considered one of the world's most important and powerful global cities.\",\n",
       "  'favourite_food_and_why': 'Pasta, for its comfort, versatility in dishes, and rich flavors.',\n",
       "  'occupation': 'Product Manager',\n",
       "  'description_of_job': 'Oversees the development of products from conception through launch.',\n",
       "  'experience_relevant_to_job': 'Learn agree claim fund.',\n",
       "  'growth_plan': 'Still media fund entire participant time turn accept need TV.'},\n",
       " {'date': '2023-02-23',\n",
       "  'name': 'Gabriel Roberts',\n",
       "  'company_name': 'Microsoft',\n",
       "  'description_of_company': 'An American multinational technology corporation which produces computer software, consumer electronics, personal computers, and related services.',\n",
       "  'favourite_memory': 'Son evidence collection region general there.',\n",
       "  'favourite_city_and_why': 'London, for its historical landmarks and diverse cultural scene. for its historical landmarks and diverse cultural scene. Additionally, London has hosted the Summer Olympics three times: in 1908, 1948, and 2012.',\n",
       "  'favourite_food_and_why': 'Sushi, for its fresh flavors and artful presentation.',\n",
       "  'occupation': 'Data Analyst',\n",
       "  'description_of_job': 'Interprets data and turns it into information which can offer ways to improve a business.',\n",
       "  'experience_relevant_to_job': 'Onto administration police threat like food.',\n",
       "  'growth_plan': 'Explain build billion morning challenge why.'},\n",
       " {'date': '2022-11-07',\n",
       "  'name': 'Clifford Edwards',\n",
       "  'company_name': 'Amazon',\n",
       "  'description_of_company': 'An American multinational conglomerate which focuses on e-commerce, cloud computing, digital streaming, and artificial intelligence.',\n",
       "  'favourite_memory': 'Brother pick thought.',\n",
       "  'favourite_city_and_why': \"Tokyo, for its unique blend of traditional and modern for its unique blend of traditional and modern Additionally, It's considered one of the world's most important and powerful global cities.\",\n",
       "  'favourite_food_and_why': \"Chocolate, because it's comforting, decadent, and a sweet treat for any occasion.\",\n",
       "  'occupation': 'Software Engineer',\n",
       "  'description_of_job': 'Develops and maintains software applications.',\n",
       "  'experience_relevant_to_job': 'Even threat every real experience poor.',\n",
       "  'growth_plan': 'Particularly news seem entire play.'}]"
      ]
     },
     "execution_count": 20,
     "metadata": {},
     "output_type": "execute_result"
    }
   ],
   "source": [
    "# Read the CSV file and extract all information\n",
    "data = []\n",
    "with open(file_path, mode='r', encoding='utf-8') as file:\n",
    "    csv_reader = csv.reader(file)\n",
    "    headers = next(csv_reader)  # Read the header\n",
    "    for row in csv_reader:\n",
    "        data.append(row)\n",
    "\n",
    "# Find the row for Tina Escobar and extract her favorite city and the reason\n",
    "tina_favorite_city_info = None\n",
    "for row in data:\n",
    "    if \"Tina Escobar\" in row:\n",
    "        tina_favorite_city_info = row\n",
    "        break\n",
    "\n",
    "headers, tina_favorite_city_info"
   ]
  },
  {
   "cell_type": "markdown",
   "metadata": {},
   "source": [
    "##### V2 - Explicitly directs to extract CSV to Dict"
   ]
  },
  {
   "cell_type": "code",
   "execution_count": null,
   "metadata": {},
   "outputs": [],
   "source": [
    "improved_prompt_assistant_v2 = create_assistant()"
   ]
  },
  {
   "cell_type": "code",
   "execution_count": null,
   "metadata": {},
   "outputs": [],
   "source": [
    "# Prompt Naive Assistant\n",
    "improved_prompt_response_v2 = prompt_assistant(assistant=improved_prompt_assistant_v2, prompt='Extract all information in the attached CSV into a dict. Tell me Tina Escobars favorite city and why, including ALL details in the relevant field you created.  ', file_path='tse_takehome_dataset.csv')"
   ]
  },
  {
   "cell_type": "code",
   "execution_count": null,
   "metadata": {},
   "outputs": [
    {
     "name": "stdout",
     "output_type": "stream",
     "text": [
      "\n",
      "Assistant Response: First, I will read the contents of the uploaded CSV file to examine its structure and contents. Then, I'll extract the information into a dictionary.\n",
      "\n",
      "Tool Call Input:\n",
      "import pandas as pd\n",
      "\n",
      "# Load the CSV file into a DataFrame\n",
      "file_path = '/mnt/data/file-HUpmKBj6PyZdSjKxuV7aUY'\n",
      "df = pd.read_csv(file_path)\n",
      "\n",
      "# Display the first few rows of the DataFrame to understand its structure\n",
      "df.head()\n",
      "\n",
      "Assistant Response: The CSV file contains several columns related to individuals and their preferences, including favorite cities and their reasons. \n",
      "\n",
      "Now, I will extract all of this information into a dictionary. Then, I will look specifically for the details regarding Tina Escobar's favorite city. Let's proceed with this extraction and analysis.\n",
      "\n",
      "Tool Call Input:\n",
      "# Convert the DataFrame to a list of dictionaries\n",
      "data_dict = df.to_dict(orient='records')\n",
      "\n",
      "# Find the entry for Tina Escobar to get information about her favorite city\n",
      "tina_escobar_info = next((entry for entry in data_dict if entry['name'] == 'Tina Escobar'), None)\n",
      "\n",
      "# Extract Tina Escobar's favorite city and why\n",
      "tina_fav_city_info = tina_escobar_info['favourite_city_and_why'] if tina_escobar_info else \"Not found\"\n",
      "\n",
      "data_dict, tina_fav_city_info\n",
      "\n",
      "Assistant Response: The information for Tina Escobar's favorite city and the reason why she likes it is as follows:\n",
      "\n",
      "- **Favorite City:** New York\n",
      "- **Reason:** Because of its vibrant city life and diversity. Additionally, it's home to the largest metropolitan zoo in the US.\n",
      "\n",
      "This detailed description provides insight into why Tina finds New York appealing.\n"
     ]
    }
   ],
   "source": [
    "# Print conversation output  DO NOT RERUN!!!!!!!!!!!!!!!!!!!!!!!!!!!!!\n",
    "print(improved_prompt_response_v2[0])"
   ]
  },
  {
   "cell_type": "code",
   "execution_count": null,
   "metadata": {},
   "outputs": [
    {
     "data": {
      "text/plain": [
       "{'date': '2023-02-22',\n",
       " 'name': 'Tina Escobar',\n",
       " 'company_name': 'Microsoft',\n",
       " 'description_of_company': 'An American multinational technology corporation which produces computer software, consumer electronics, personal computers, and related services.',\n",
       " 'favourite_memory': 'Their small walk want blood worry wish.',\n",
       " 'favourite_city_and_why': \"New York, because of its vibrant city life and diversity. because of its vibrant city life and diversity. Additionally, It's home to the largest metropolitan zoo in the US.\",\n",
       " 'favourite_food_and_why': 'Pasta, for its comfort, versatility in dishes, and rich flavors.',\n",
       " 'occupation': 'Data Analyst',\n",
       " 'description_of_job': 'Interprets data and turns it into information which can offer ways to improve a business.',\n",
       " 'experience_relevant_to_job': 'Raise physical show sing.',\n",
       " 'growth_plan': 'Computer either stand responsibility serve ever performance financial ahead cold.'}"
      ]
     },
     "metadata": {},
     "output_type": "display_data"
    }
   ],
   "source": [
    "# Reproduce call to pandas from code interpreter\n",
    "data_dict = df.to_dict(orient='records')\n",
    "\n",
    "tina_escobar_info = next((entry for entry in data_dict if entry['name'] == 'Tina Escobar'), None)\n",
    "\n",
    "tina_escobar_info"
   ]
  },
  {
   "cell_type": "markdown",
   "metadata": {},
   "source": [
    "##### V3 - Emphasizes completeness."
   ]
  },
  {
   "cell_type": "code",
   "execution_count": null,
   "metadata": {},
   "outputs": [],
   "source": [
    "improved_prompt_assistant_v3 = create_assistant()"
   ]
  },
  {
   "cell_type": "code",
   "execution_count": null,
   "metadata": {},
   "outputs": [],
   "source": [
    "# Prompt Assistant\n",
    "improved_prompt_response_v3 = prompt_assistant(assistant=improved_prompt_assistant_v3, prompt='Tell me Tina Escobars favorite city and why, including ALL details in the relevant field.  You MUST emphasize completeness over being concise. ', file_path='tse_takehome_dataset.csv')"
   ]
  },
  {
   "cell_type": "code",
   "execution_count": null,
   "metadata": {},
   "outputs": [
    {
     "name": "stdout",
     "output_type": "stream",
     "text": [
      "\n",
      "Assistant Response: To assist you with this request, I'll first examine the contents of the uploaded file to locate the relevant information about Tina Escobar's favorite city and the reasons behind her preference. Let's open and review the file.\n",
      "\n",
      "Tool Call Input:\n",
      "# Let's start by checking the contents of the uploaded file to understand its format and locate the required information.\n",
      "file_path = '/mnt/data/file-5mPJhLTuNVFjiTaTsyA7Z9'\n",
      "with open(file_path, 'r', encoding='utf-8') as file:\n",
      "    content = file.read()\n",
      "\n",
      "# Display the first few hundred characters to get an overview of the contents\n",
      "content[:500]\n",
      "\n",
      "Assistant Response: The file appears to be in a CSV format, containing fields such as `date`, `name`, `company_name`, `description_of_company`, `favourite_memory`, `favourite_city_and_why`, and so on. Tina Escobar's favorite city and the reason for her preference should be in the `favourite_city_and_why` field. Let's parse the file to extract this specific information for Tina Escobar.\n",
      "\n",
      "Tool Call Input:\n",
      "import csv\n",
      "\n",
      "# Define the target individual\n",
      "target_name = \"Tina Escobar\"\n",
      "favorite_city_info = None\n",
      "\n",
      "# Read through the CSV file\n",
      "with open(file_path, mode='r', encoding='utf-8') as csvfile:\n",
      "    reader = csv.DictReader(csvfile)\n",
      "    for row in reader:\n",
      "        if row['name'] == target_name:\n",
      "            # Capture the 'favourite_city_and_why' details for Tina Escobar\n",
      "            favorite_city_info = row.get('favourite_city_and_why', None)\n",
      "            break\n",
      "\n",
      "favorite_city_info\n",
      "\n",
      "Assistant Response: Tina Escobar's favorite city is New York. She appreciates it for its vibrant city life and diversity. Additionally, she mentions that New York is home to the largest metropolitan zoo in the United States, which is another factor contributing to her preference for the city.\n"
     ]
    }
   ],
   "source": [
    "# Print conversation output  DO NOT RERUN!!!!!!!!!!!!!!!!!!!!!!!!!!!!!\n",
    "print(improved_prompt_response_v3[0])"
   ]
  },
  {
   "cell_type": "code",
   "execution_count": null,
   "metadata": {},
   "outputs": [
    {
     "data": {
      "text/plain": [
       "\"New York, because of its vibrant city life and diversity. because of its vibrant city life and diversity. Additionally, It's home to the largest metropolitan zoo in the US.\""
      ]
     },
     "execution_count": 48,
     "metadata": {},
     "output_type": "execute_result"
    }
   ],
   "source": [
    "# Reproduce call to pandas from code interpreter\n",
    "import csv\n",
    "\n",
    "# Define the target individual\n",
    "target_name = \"Tina Escobar\"\n",
    "favorite_city_info = None\n",
    "\n",
    "# Read through the CSV file\n",
    "with open('tse_takehome_dataset.csv', mode='r', encoding='utf-8') as csvfile:\n",
    "    reader = csv.DictReader(csvfile)\n",
    "    for row in reader:\n",
    "        if row['name'] == target_name:\n",
    "            # Capture the 'favourite_city_and_why' details for Tina Escobar\n",
    "            favorite_city_info = row.get('favourite_city_and_why', None)\n",
    "            break\n",
    "\n",
    "favorite_city_info\n"
   ]
  },
  {
   "cell_type": "markdown",
   "metadata": {},
   "source": [
    "### Improved Assistant - Better Instructions"
   ]
  },
  {
   "cell_type": "markdown",
   "metadata": {},
   "source": [
    "Assistant with more specific instructions and basic prompt"
   ]
  },
  {
   "cell_type": "markdown",
   "metadata": {},
   "source": [
    "##### V1 - Explicit Rules, Lowered Temperature  (Candidate)"
   ]
  },
  {
   "cell_type": "code",
   "execution_count": 26,
   "metadata": {},
   "outputs": [],
   "source": [
    "improved_instruct_assistant = create_assistant(instructions='You are an assistant that MUST provide complete and untruncated answers. You MUST strictly follow these non-negotiable rules:\\n- You MUST prioritize completeness in your response over being concise.\\n- When reviewing information in a CSV, you can ONLY base your answer on the full and untruncated content of each field.\\n- When processing CSV content, you MUST convert CSV content to a dictionary and ONLY base your answer on the dictionary output.\\n- You MUST strictly follow all of these rules.\\n-You will NEVER use data frame outputs to answer your question in Code Interpreter.\\n\\nIf you cannot fully comply with these rules, you MUST explicitly state why.', temperature=0.0)"
   ]
  },
  {
   "cell_type": "code",
   "execution_count": 33,
   "metadata": {},
   "outputs": [],
   "source": [
    "# Prompt Assistant\n",
    "improved_instruct_response = prompt_assistant(assistant=improved_instruct_assistant, prompt='Tell me what tina escobars favorite city is and why', file_path='tse_takehome_dataset.csv')"
   ]
  },
  {
   "cell_type": "code",
   "execution_count": 34,
   "metadata": {},
   "outputs": [
    {
     "name": "stdout",
     "output_type": "stream",
     "text": [
      "\n",
      "Tool Call Input:\n",
      "import csv\n",
      "\n",
      "# Read the CSV file and convert it to a list of dictionaries\n",
      "file_path = '/mnt/data/file-FucjHDGHKmLr2QojdbaNVY'\n",
      "data = []\n",
      "\n",
      "with open(file_path, mode='r', encoding='utf-8') as file:\n",
      "    csv_reader = csv.DictReader(file)\n",
      "    for row in csv_reader:\n",
      "        data.append(row)\n",
      "\n",
      "# Display the data to understand its structure\n",
      "data\n",
      "\n",
      "Assistant Response: Tina Escobar's favorite city is New York. She appreciates it for its vibrant city life and diversity. Additionally, she notes that New York is home to the largest metropolitan zoo in the United States.\n"
     ]
    }
   ],
   "source": [
    "# Print conversation output  DO NOT RERUN!!!!!!!!!!!!!!!!!!!!!!!!!!!!!\n",
    "print(improved_instruct_response[0])"
   ]
  },
  {
   "cell_type": "code",
   "execution_count": 36,
   "metadata": {},
   "outputs": [
    {
     "data": {
      "text/plain": [
       "[{'date': '2023-08-13',\n",
       "  'name': 'James Padilla',\n",
       "  'company_name': 'Microsoft',\n",
       "  'description_of_company': 'An American multinational technology corporation which produces computer software, consumer electronics, personal computers, and related services.',\n",
       "  'favourite_memory': 'Use world sure long fine dinner.',\n",
       "  'favourite_city_and_why': 'London, for its historical landmarks and diverse cultural scene. for its historical landmarks and diverse cultural scene. Additionally, London has hosted the Summer Olympics three times: in 1908, 1948, and 2012.',\n",
       "  'favourite_food_and_why': \"Pizza, because it's versatile, delicious, and brings people together.\",\n",
       "  'occupation': 'Project Manager',\n",
       "  'description_of_job': 'Oversees projects from start to finish to ensure they meet company goals.',\n",
       "  'experience_relevant_to_job': 'Game image scientist girl them receive.',\n",
       "  'growth_plan': 'Claim score out local meeting all.'},\n",
       " {'date': '2020-06-09',\n",
       "  'name': 'Eric Rogers',\n",
       "  'company_name': 'Facebook',\n",
       "  'description_of_company': 'An American online social media and social networking service owned by Meta Platforms.',\n",
       "  'favourite_memory': 'Plant especially information clear.',\n",
       "  'favourite_city_and_why': 'Paris, for its beautiful architecture for its beautiful architecture Additionally, The Eiffel Tower was supposed to be a temporary installation, intended to stand for 20 years after being constructed for the 1889 World Fair.',\n",
       "  'favourite_food_and_why': \"Chocolate, because it's comforting, decadent, and a sweet treat for any occasion.\",\n",
       "  'occupation': 'Product Manager',\n",
       "  'description_of_job': 'Oversees the development of products from conception through launch.',\n",
       "  'experience_relevant_to_job': 'Decide despite then environment.',\n",
       "  'growth_plan': 'Enough order degree appear trial design ten nothing be.'},\n",
       " {'date': '2023-12-17',\n",
       "  'name': 'Christopher King',\n",
       "  'company_name': 'Google',\n",
       "  'description_of_company': 'A multinational technology company that specializes in Internet-related services and products.',\n",
       "  'favourite_memory': 'Thus bad front decade.',\n",
       "  'favourite_city_and_why': \"Tokyo, for its unique blend of traditional and modern for its unique blend of traditional and modern Additionally, It's considered one of the world's most important and powerful global cities.\",\n",
       "  'favourite_food_and_why': 'Sushi, for its fresh flavors and artful presentation.',\n",
       "  'occupation': 'Graphic Designer',\n",
       "  'description_of_job': 'Creates visual concepts to communicate ideas that inspire, inform, or captivate consumers.',\n",
       "  'experience_relevant_to_job': 'Very development lead point.',\n",
       "  'growth_plan': 'Finally glass officer group fill house hard camera.'},\n",
       " {'date': '2023-02-22',\n",
       "  'name': 'Tina Escobar',\n",
       "  'company_name': 'Microsoft',\n",
       "  'description_of_company': 'An American multinational technology corporation which produces computer software, consumer electronics, personal computers, and related services.',\n",
       "  'favourite_memory': 'Their small walk want blood worry wish.',\n",
       "  'favourite_city_and_why': \"New York, because of its vibrant city life and diversity. because of its vibrant city life and diversity. Additionally, It's home to the largest metropolitan zoo in the US.\",\n",
       "  'favourite_food_and_why': 'Pasta, for its comfort, versatility in dishes, and rich flavors.',\n",
       "  'occupation': 'Data Analyst',\n",
       "  'description_of_job': 'Interprets data and turns it into information which can offer ways to improve a business.',\n",
       "  'experience_relevant_to_job': 'Raise physical show sing.',\n",
       "  'growth_plan': 'Computer either stand responsibility serve ever performance financial ahead cold.'},\n",
       " {'date': '2019-12-05',\n",
       "  'name': 'Joshua Lewis',\n",
       "  'company_name': 'Google',\n",
       "  'description_of_company': 'An American multinational technology corporation which produces computer software, consumer electronics, personal computers, and related services.',\n",
       "  'favourite_memory': 'Give friend green eat agent finally fine.',\n",
       "  'favourite_city_and_why': \"Paris, for its beautiful architecture for its beautiful architecture Additionally, Paris is known as the 'City of Light', originally because of its leading role during the Age of Enlightenment and more literally because Paris was one of the first large European cities to use gas street lighting on a grand scale on its boulevards and monuments.\",\n",
       "  'favourite_food_and_why': \"Pizza, because it's versatile, delicious, and brings people together.\",\n",
       "  'occupation': 'Software Engineer',\n",
       "  'description_of_job': 'Develops and maintains software applications.',\n",
       "  'experience_relevant_to_job': 'Foot night morning anything.',\n",
       "  'growth_plan': 'Color wind look enjoy our task true thousand themselves number.'},\n",
       " {'date': '2020-06-01',\n",
       "  'name': 'Samantha Becker',\n",
       "  'company_name': 'Facebook',\n",
       "  'description_of_company': 'An American online social media and social networking service owned by Meta Platforms.',\n",
       "  'favourite_memory': 'Page campaign interesting talk meeting mission oil.',\n",
       "  'favourite_city_and_why': \"Sydney, for its stunning harbour for its stunning harbour Additionally, Sydney Harbour Bridge is the world's largest steel arch bridge.\",\n",
       "  'favourite_food_and_why': \"Chocolate, because it's comforting, decadent, and a sweet treat for any occasion.\",\n",
       "  'occupation': 'Graphic Designer',\n",
       "  'description_of_job': 'Creates visual concepts to communicate ideas that inspire, inform, or captivate consumers.',\n",
       "  'experience_relevant_to_job': 'Write office tree.',\n",
       "  'growth_plan': 'Event hotel population hot prepare community group rule possible four.'},\n",
       " {'date': '2022-05-15',\n",
       "  'name': 'Jesse Crawford',\n",
       "  'company_name': 'Tesla',\n",
       "  'description_of_company': 'An American electric vehicle and clean energy company.',\n",
       "  'favourite_memory': 'Brother likely will radio far.',\n",
       "  'favourite_city_and_why': 'Sydney, for its stunning harbour for its stunning harbour Additionally, The Sydney Opera House design was inspired by orange segments.',\n",
       "  'favourite_food_and_why': 'Pasta, for its comfort, versatility in dishes, and rich flavors.',\n",
       "  'occupation': 'Software Engineer',\n",
       "  'description_of_job': 'Develops and maintains software applications.',\n",
       "  'experience_relevant_to_job': 'Former lawyer law note.',\n",
       "  'growth_plan': 'Certainly seat note carry positive.'},\n",
       " {'date': '2020-12-16',\n",
       "  'name': 'Ronald Jones',\n",
       "  'company_name': 'Facebook',\n",
       "  'description_of_company': 'An American online social media and social networking service owned by Meta Platforms.',\n",
       "  'favourite_memory': 'Yeah religious already style.',\n",
       "  'favourite_city_and_why': 'Sydney, for its stunning harbour for its stunning harbour Additionally, The Sydney Opera House design was inspired by orange segments.',\n",
       "  'favourite_food_and_why': \"Pizza, because it's versatile, delicious, and brings people together.\",\n",
       "  'occupation': 'Graphic Designer',\n",
       "  'description_of_job': 'Creates visual concepts to communicate ideas that inspire, inform, or captivate consumers.',\n",
       "  'experience_relevant_to_job': 'Pass he law garden player.',\n",
       "  'growth_plan': 'Central nice down general physical today enter character.'},\n",
       " {'date': '2019-06-16',\n",
       "  'name': 'Michael Ali',\n",
       "  'company_name': 'Google',\n",
       "  'description_of_company': 'A multinational technology company that specializes in Internet-related services and products.',\n",
       "  'favourite_memory': 'Rule she history claim.',\n",
       "  'favourite_city_and_why': 'London, for its historical landmarks and diverse cultural scene. for its historical landmarks and diverse cultural scene. Additionally, London has hosted the Summer Olympics three times: in 1908, 1948, and 2012.',\n",
       "  'favourite_food_and_why': 'Tacos, for their flavor-packed bites and customizable fillings.',\n",
       "  'occupation': 'Data Analyst',\n",
       "  'description_of_job': 'Interprets data and turns it into information which can offer ways to improve a business.',\n",
       "  'experience_relevant_to_job': 'Along system throw indicate our degree.',\n",
       "  'growth_plan': 'Involve behind he take hard civil.'},\n",
       " {'date': '2020-01-18',\n",
       "  'name': 'Kristy Alvarez',\n",
       "  'company_name': 'Microsoft',\n",
       "  'description_of_company': 'An American multinational technology corporation which produces computer software, consumer electronics, personal computers, and related services.',\n",
       "  'favourite_memory': 'Hear inside prove gun.',\n",
       "  'favourite_city_and_why': \"New York, because of its vibrant city life and diversity. because of its vibrant city life and diversity. Additionally, It's home to the largest metropolitan zoo in the US.\",\n",
       "  'favourite_food_and_why': 'Sushi, for its fresh flavors and artful presentation.',\n",
       "  'occupation': 'Data Analyst',\n",
       "  'description_of_job': 'Interprets data and turns it into information which can offer ways to improve a business.',\n",
       "  'experience_relevant_to_job': 'Form like professional sound theory live.',\n",
       "  'growth_plan': 'Movie management behavior impact sea appear.'},\n",
       " {'date': '2021-06-23',\n",
       "  'name': 'Joseph Martinez',\n",
       "  'company_name': 'Tesla',\n",
       "  'description_of_company': 'An American electric vehicle and clean energy company.',\n",
       "  'favourite_memory': 'Always successful indeed easy behavior growth.',\n",
       "  'favourite_city_and_why': 'Tokyo, for its unique blend of traditional and modern for its unique blend of traditional and modern Additionally, Tokyo was once known as Edo.',\n",
       "  'favourite_food_and_why': \"Pizza, because it's versatile, delicious, and brings people together.\",\n",
       "  'occupation': 'Project Manager',\n",
       "  'description_of_job': 'Oversees projects from start to finish to ensure they meet company goals.',\n",
       "  'experience_relevant_to_job': 'Power guy exactly catch staff sister herself.',\n",
       "  'growth_plan': 'Type along oil recent course.'},\n",
       " {'date': '2022-07-23',\n",
       "  'name': 'Dr. Joel Simmons',\n",
       "  'company_name': 'Google',\n",
       "  'description_of_company': 'A multinational technology company that specializes in Internet-related services and products.',\n",
       "  'favourite_memory': 'Appear building sense century military always.',\n",
       "  'favourite_city_and_why': 'London, for its historical landmarks and diverse cultural scene. for its historical landmarks and diverse cultural scene. Additionally, More than half of the London Underground network actually runs above ground.',\n",
       "  'favourite_food_and_why': 'Sushi, for its fresh flavors and artful presentation.',\n",
       "  'occupation': 'Data Analyst',\n",
       "  'description_of_job': 'Interprets data and turns it into information which can offer ways to improve a business.',\n",
       "  'experience_relevant_to_job': 'Player they station listen.',\n",
       "  'growth_plan': 'Certain hold effect top.'},\n",
       " {'date': '2023-05-06',\n",
       "  'name': 'Sarah King',\n",
       "  'company_name': 'Google',\n",
       "  'description_of_company': 'A multinational technology company that specializes in Internet-related services and products.',\n",
       "  'favourite_memory': 'Decision once that film team article.',\n",
       "  'favourite_city_and_why': 'Tokyo, for its unique blend of traditional and modern for its unique blend of traditional and modern Additionally, Tokyo was once known as Edo.',\n",
       "  'favourite_food_and_why': 'Pasta, for its comfort, versatility in dishes, and rich flavors.',\n",
       "  'occupation': 'Project Manager',\n",
       "  'description_of_job': 'Oversees projects from start to finish to ensure they meet company goals.',\n",
       "  'experience_relevant_to_job': 'One senior light popular resource.',\n",
       "  'growth_plan': 'Though production sell difference case.'},\n",
       " {'date': '2023-12-01',\n",
       "  'name': 'Sheila Bond',\n",
       "  'company_name': 'Amazon',\n",
       "  'description_of_company': 'An American multinational conglomerate which focuses on e-commerce, cloud computing, digital streaming, and artificial intelligence.',\n",
       "  'favourite_memory': 'House recent design indicate.',\n",
       "  'favourite_city_and_why': 'Tokyo, for its unique blend of traditional and modern for its unique blend of traditional and modern Additionally, Tokyo was once known as Edo.',\n",
       "  'favourite_food_and_why': \"Pizza, because it's versatile, delicious, and brings people together.\",\n",
       "  'occupation': 'Project Manager',\n",
       "  'description_of_job': 'Oversees projects from start to finish to ensure they meet company goals.',\n",
       "  'experience_relevant_to_job': 'Near indeed music boy now something cup.',\n",
       "  'growth_plan': 'Time sure popular them main anything ok beautiful.'},\n",
       " {'date': '2022-08-22',\n",
       "  'name': 'Michael Lewis',\n",
       "  'company_name': 'Amazon',\n",
       "  'description_of_company': 'An American multinational conglomerate which focuses on e-commerce, cloud computing, digital streaming, and artificial intelligence.',\n",
       "  'favourite_memory': 'Task single hold cut town reason economy.',\n",
       "  'favourite_city_and_why': 'London, for its historical landmarks and diverse cultural scene. for its historical landmarks and diverse cultural scene. Additionally, More than half of the London Underground network actually runs above ground.',\n",
       "  'favourite_food_and_why': 'Tacos, for their flavor-packed bites and customizable fillings.',\n",
       "  'occupation': 'Software Engineer',\n",
       "  'description_of_job': 'Develops and maintains software applications.',\n",
       "  'experience_relevant_to_job': 'Like site moment consumer.',\n",
       "  'growth_plan': 'Easy staff data say represent pretty central will their oil.'},\n",
       " {'date': '2022-02-24',\n",
       "  'name': 'Rachael Guerrero',\n",
       "  'company_name': 'Facebook',\n",
       "  'description_of_company': 'An American online social media and social networking service owned by Meta Platforms.',\n",
       "  'favourite_memory': 'Hard on single nor nor relate expect.',\n",
       "  'favourite_city_and_why': 'New York, because of its vibrant city life and diversity. because of its vibrant city life and diversity. Additionally, More than 800 languages are spoken in New York, making it the most linguistically diverse city in the world.',\n",
       "  'favourite_food_and_why': 'Tacos, for their flavor-packed bites and customizable fillings.',\n",
       "  'occupation': 'Graphic Designer',\n",
       "  'description_of_job': 'Creates visual concepts to communicate ideas that inspire, inform, or captivate consumers.',\n",
       "  'experience_relevant_to_job': 'Huge woman car environmental listen.',\n",
       "  'growth_plan': 'Final cup speak institution gas several place run then sell.'},\n",
       " {'date': '2019-05-04',\n",
       "  'name': 'Paul Vega',\n",
       "  'company_name': 'Facebook',\n",
       "  'description_of_company': 'An American online social media and social networking service owned by Meta Platforms.',\n",
       "  'favourite_memory': 'Peace court happy challenge your cause quickly.',\n",
       "  'favourite_city_and_why': 'London, for its historical landmarks and diverse cultural scene. for its historical landmarks and diverse cultural scene. Additionally, London has hosted the Summer Olympics three times: in 1908, 1948, and 2012.',\n",
       "  'favourite_food_and_why': 'Pasta, for its comfort, versatility in dishes, and rich flavors.',\n",
       "  'occupation': 'Data Analyst',\n",
       "  'description_of_job': 'Interprets data and turns it into information which can offer ways to improve a business.',\n",
       "  'experience_relevant_to_job': 'Simple oil room but.',\n",
       "  'growth_plan': 'Resource American himself cover black.'},\n",
       " {'date': '2023-08-15',\n",
       "  'name': 'Douglas Acosta',\n",
       "  'company_name': 'Microsoft',\n",
       "  'description_of_company': 'An American multinational technology corporation which produces computer software, consumer electronics, personal computers, and related services.',\n",
       "  'favourite_memory': 'Drop simply him newspaper use way clearly.',\n",
       "  'favourite_city_and_why': \"Tokyo, for its unique blend of traditional and modern for its unique blend of traditional and modern Additionally, It's considered one of the world's most important and powerful global cities.\",\n",
       "  'favourite_food_and_why': 'Pasta, for its comfort, versatility in dishes, and rich flavors.',\n",
       "  'occupation': 'Product Manager',\n",
       "  'description_of_job': 'Oversees the development of products from conception through launch.',\n",
       "  'experience_relevant_to_job': 'Learn agree claim fund.',\n",
       "  'growth_plan': 'Still media fund entire participant time turn accept need TV.'},\n",
       " {'date': '2023-02-23',\n",
       "  'name': 'Gabriel Roberts',\n",
       "  'company_name': 'Microsoft',\n",
       "  'description_of_company': 'An American multinational technology corporation which produces computer software, consumer electronics, personal computers, and related services.',\n",
       "  'favourite_memory': 'Son evidence collection region general there.',\n",
       "  'favourite_city_and_why': 'London, for its historical landmarks and diverse cultural scene. for its historical landmarks and diverse cultural scene. Additionally, London has hosted the Summer Olympics three times: in 1908, 1948, and 2012.',\n",
       "  'favourite_food_and_why': 'Sushi, for its fresh flavors and artful presentation.',\n",
       "  'occupation': 'Data Analyst',\n",
       "  'description_of_job': 'Interprets data and turns it into information which can offer ways to improve a business.',\n",
       "  'experience_relevant_to_job': 'Onto administration police threat like food.',\n",
       "  'growth_plan': 'Explain build billion morning challenge why.'},\n",
       " {'date': '2022-11-07',\n",
       "  'name': 'Clifford Edwards',\n",
       "  'company_name': 'Amazon',\n",
       "  'description_of_company': 'An American multinational conglomerate which focuses on e-commerce, cloud computing, digital streaming, and artificial intelligence.',\n",
       "  'favourite_memory': 'Brother pick thought.',\n",
       "  'favourite_city_and_why': \"Tokyo, for its unique blend of traditional and modern for its unique blend of traditional and modern Additionally, It's considered one of the world's most important and powerful global cities.\",\n",
       "  'favourite_food_and_why': \"Chocolate, because it's comforting, decadent, and a sweet treat for any occasion.\",\n",
       "  'occupation': 'Software Engineer',\n",
       "  'description_of_job': 'Develops and maintains software applications.',\n",
       "  'experience_relevant_to_job': 'Even threat every real experience poor.',\n",
       "  'growth_plan': 'Particularly news seem entire play.'}]"
      ]
     },
     "execution_count": 36,
     "metadata": {},
     "output_type": "execute_result"
    }
   ],
   "source": [
    "import csv\n",
    "\n",
    "# Read the CSV file and convert it to a list of dictionaries\n",
    "with open('tse_takehome_dataset.csv', mode='r', encoding='utf-8') as file:\n",
    "    csv_reader = csv.DictReader(file)\n",
    "    data = [row for row in csv_reader]\n",
    "\n",
    "# Display the data to understand its structure\n",
    "data"
   ]
  },
  {
   "cell_type": "markdown",
   "metadata": {},
   "source": [
    "##### V2 - Instructions direct assistant to extract to dict"
   ]
  },
  {
   "cell_type": "code",
   "execution_count": 38,
   "metadata": {},
   "outputs": [],
   "source": [
    "improved_instruct_assistant_v2 = create_assistant(instructions='You are tasked with providing complete and untruncated answers to questions.  If you are passed a CSV, you MUST convert this to a dict and ONLY use the dict to answer your questions.')"
   ]
  },
  {
   "cell_type": "code",
   "execution_count": 21,
   "metadata": {},
   "outputs": [],
   "source": [
    "# Prompt Assistant\n",
    "improved_instruct_response_v2 = prompt_assistant(assistant=improved_instruct_assistant_v2, prompt='Tell me Tina Escobars favorite city and why', file_path='tse_takehome_dataset.csv')"
   ]
  },
  {
   "cell_type": "code",
   "execution_count": 23,
   "metadata": {},
   "outputs": [
    {
     "name": "stdout",
     "output_type": "stream",
     "text": [
      "\n",
      "Assistant Response: I'll review the contents of the uploaded file to try to find information about Tina Escobar's favorite city and the reason why. Let's take a look at the file first.\n",
      "\n",
      "Tool Call Input:\n",
      "# Let's open and inspect the contents of the uploaded file to find information about Tina Escobar's favorite city.\n",
      "file_path = '/mnt/data/file-1mpAgJZXxB8ERL64g3Ubv6'\n",
      "\n",
      "# Determine the type of file first to see how to approach reading it\n",
      "import magic\n",
      "\n",
      "# Use the magic library to determine the file type\n",
      "file_type = magic.from_file(file_path, mime=True)\n",
      "file_type\n",
      "\n",
      "Assistant Response: It appears that the `magic` library is not available in this environment. Without knowing the file type, I'll attempt to read the file as a text file first. If that doesn't work, I'll explore other methods. Let's try reading the file.\n",
      "\n",
      "Tool Call Input:\n",
      "# Attempt to open and read the contents of the file as a text file\n",
      "try:\n",
      "    with open(file_path, 'r') as file:\n",
      "        contents = file.read()\n",
      "except Exception as e:\n",
      "    contents = str(e)\n",
      "\n",
      "contents[:1000]  # Display the first 1000 characters to get an overview of the content\n",
      "\n",
      "Assistant Response: The file appears to be a CSV (Comma-Separated Values) file containing personal information, including \"favourite_city_and_why\" as one of its columns. Let's parse the CSV file to locate information about Tina Escobar's favorite city and why.\n",
      "\n",
      "Tool Call Input:\n",
      "import pandas as pd\n",
      "\n",
      "# Load the CSV file into a pandas DataFrame\n",
      "df = pd.read_csv(file_path)\n",
      "\n",
      "# Display the columns to identify the one related to Tina Escobar's favorite city\n",
      "df.columns\n",
      "\n",
      "Tool Call Input:\n",
      "# Filter the DataFrame for the row corresponding to Tina Escobar\n",
      "tina_escobar_info = df[df['name'] == 'Tina Escobar']\n",
      "\n",
      "# Display Tina Escobar's favorite city and the reason why\n",
      "tina_escobar_favorite_city = tina_escobar_info[['favourite_city_and_why']]\n",
      "\n",
      "tina_escobar_favorite_city\n",
      "\n",
      "Assistant Response: Tina Escobar's favorite city is New York, and the reason she favors it is because of its vibrant city life and diverse opportunities.\n"
     ]
    }
   ],
   "source": [
    "# Print conversation output  DO NOT RERUN!!!!!!!!!!!!!!!!!!!!!!!!!!!!!\n",
    "print(improved_instruct_response_v2[0])"
   ]
  },
  {
   "cell_type": "code",
   "execution_count": 18,
   "metadata": {},
   "outputs": [
    {
     "data": {
      "text/plain": [
       "\"Tina Escobar's favorite city is New York. She loves it because of its vibrant city life and diversity. Additionally, she appreciates that it's home to the largest metropolitan zoo in the United States.\""
      ]
     },
     "execution_count": 18,
     "metadata": {},
     "output_type": "execute_result"
    }
   ],
   "source": [
    "improved_instruct_response_v2[2][0].content[0].text.value"
   ]
  },
  {
   "cell_type": "code",
   "execution_count": null,
   "metadata": {},
   "outputs": [
    {
     "data": {
      "text/plain": [
       "\"New York, because of its vibrant city life and diversity. because of its vibrant city life and diversity. Additionally, It's home to the largest metropolitan zoo in the US.\""
      ]
     },
     "execution_count": 3,
     "metadata": {},
     "output_type": "execute_result"
    }
   ],
   "source": [
    "# Parse the CSV content to extract information about Tina Escobar\n",
    "tina_info = None\n",
    "\n",
    "with open('tse_takehome_dataset.csv', newline='', encoding='utf-8') as csvfile:\n",
    "    reader = csv.DictReader(csvfile)\n",
    "    # Search for Tina Escobar's information\n",
    "    for row in reader:\n",
    "        if row['name'].strip() == 'Tina Escobar':\n",
    "            tina_info = row\n",
    "            break\n",
    "\n",
    "tina_info['favourite_city_and_why'] if tina_info else \"Tina Escobar's information not found.\"\n"
   ]
  },
  {
   "cell_type": "markdown",
   "metadata": {},
   "source": [
    "##### V3 - Provide steps to get each answer"
   ]
  },
  {
   "cell_type": "code",
   "execution_count": 45,
   "metadata": {},
   "outputs": [],
   "source": [
    "improved_instruct_assistant_v3 = create_assistant(instructions='You are an assistant that provides full and untruncated responses to questions.  The user will provide a CSV and you will take the following steps to arrive at your answer:\\nStep 1 - Convert the CSV to a dictionary.\\nStep 2 - Review the FULL contents of the dictionary to understand the context required to answer the question.\\nStep 3 - Using ONLY dictionary outputs, answer the user question COMPLETELY and without leaving out ANY details.\\n\\nFollowing these steps EXACTLY is STRICTLY REQUIRED and NON-NEGOTIABLE.  You MUST NOT use dataframe output in your response.', temperature=0)"
   ]
  },
  {
   "cell_type": "code",
   "execution_count": 46,
   "metadata": {},
   "outputs": [],
   "source": [
    "# Prompt Assistant\n",
    "improved_instruct_response_v3 = prompt_assistant(assistant=improved_instruct_assistant_v3, prompt='Tell me Tina Escobars favorite city and why', file_path='tse_takehome_dataset.csv')"
   ]
  },
  {
   "cell_type": "code",
   "execution_count": 47,
   "metadata": {},
   "outputs": [
    {
     "name": "stdout",
     "output_type": "stream",
     "text": [
      "\n",
      "Tool Call Input:\n",
      "import csv\n",
      "\n",
      "# Define the file path\n",
      "file_path = '/mnt/data/file-2oDZwYVbNzYpNBXuhLaSaQ'\n",
      "\n",
      "# Read the CSV file and convert it to a dictionary\n",
      "with open(file_path, mode='r') as file:\n",
      "    csv_reader = csv.DictReader(file)\n",
      "    data = [row for row in csv_reader]\n",
      "\n",
      "# Display the data to understand its structure\n",
      "data\n",
      "\n",
      "Assistant Response: Tina Escobar's favorite city is New York. She loves it because of its vibrant city life and diversity. Additionally, New York is home to the largest metropolitan zoo in the United States.\n"
     ]
    }
   ],
   "source": [
    "# Print conversation output  DO NOT RERUN!!!!!!!!!!!!!!!!!!!!!!!!!!!!!\n",
    "print(improved_instruct_response_v3[0])"
   ]
  },
  {
   "cell_type": "code",
   "execution_count": null,
   "metadata": {},
   "outputs": [
    {
     "data": {
      "text/plain": [
       "\"New York, because of its vibrant city life and diversity. because of its vibrant city life and diversity. Additionally, It's home to the largest metropolitan zoo in the US.\""
      ]
     },
     "metadata": {},
     "output_type": "display_data"
    }
   ],
   "source": [
    "# Parse the CSV content to extract information about Tina Escobar\n",
    "tina_info = None\n",
    "\n",
    "with open('tse_takehome_dataset.csv', newline='', encoding='utf-8') as csvfile:\n",
    "    reader = csv.DictReader(csvfile)\n",
    "    # Search for Tina Escobar's information\n",
    "    for row in reader:\n",
    "        if row['name'].strip() == 'Tina Escobar':\n",
    "            tina_info = row\n",
    "            break\n",
    "\n",
    "tina_info['favourite_city_and_why'] if tina_info else \"Tina Escobar's information not found.\"\n"
   ]
  },
  {
   "cell_type": "markdown",
   "metadata": {},
   "source": [
    "### Improved Assistant - Hybrid"
   ]
  },
  {
   "cell_type": "code",
   "execution_count": null,
   "metadata": {},
   "outputs": [],
   "source": [
    "improved_hybrid_assistant = create_assistant(instructions='You are tasked with providing complete and untruncated answers to questions.  You will prioritize completeness over being concise. You are required to convert CSVs into dicts and ONLY use the dict to answer your question.')"
   ]
  },
  {
   "cell_type": "code",
   "execution_count": null,
   "metadata": {},
   "outputs": [],
   "source": [
    "# Prompt Assistant\n",
    "improved_hybrid_response = prompt_assistant(assistant=improved_hybrid_assistant, prompt='Tell me Tina Escobars favorite city and why, including ALL details in the relevant field.', file_path='tse_takehome_dataset.csv')"
   ]
  },
  {
   "cell_type": "code",
   "execution_count": null,
   "metadata": {},
   "outputs": [
    {
     "name": "stdout",
     "output_type": "stream",
     "text": [
      "\n",
      "Assistant Response: Let's first open and examine the contents of the uploaded file to locate the information about Tina Escobar's favorite city and the reasons behind it.\n",
      "\n",
      "Tool Call Input:\n",
      "# Let's open the uploaded file and check its contents to find information about Tina Escobar's favorite city.\n",
      "file_path = '/mnt/data/file-NmhvG9QhEkVKhG9YCeJoXR'\n",
      "\n",
      "# First, let's read the uploaded file. We need to determine the format (e.g., text, json, csv) to extract the data properly.\n",
      "with open(file_path, 'rb') as file:\n",
      "    file_content = file.read()\n",
      "\n",
      "# For inspection, let's try to decode the content as text initially, as it's a common format for small files.\n",
      "try:\n",
      "    content = file_content.decode('utf-8')\n",
      "except UnicodeDecodeError:\n",
      "    # If decoding as utf-8 fails, it might be a binary file or a different encoding.\n",
      "    content = None\n",
      "\n",
      "content[:500] if content else \"Binary or binary-like file\"\n",
      "\n",
      "Assistant Response: The uploaded file appears to be a CSV file with column headers. The relevant field for Tina Escobar's favorite city and the reasons behind it is likely labeled `favourite_city_and_why`. Let's extract this information from the file.\n",
      "\n",
      "Tool Call Input:\n",
      "import pandas as pd\n",
      "\n",
      "# Load the CSV file into a pandas DataFrame for easier manipulation and searching.\n",
      "df = pd.read_csv(file_path)\n",
      "\n",
      "# Display the column names to verify the appropriate field for Tina Escobar's favorite city and why.\n",
      "df.head(), df.columns\n",
      "\n",
      "Assistant Response: The file contains data organized in a table, and the column `favourite_city_and_why` contains information about each person's favorite city and the reasons why. Tina Escobar's entry is available in this DataFrame. Let's extract and display the specific details for Tina Escobar regarding her favorite city.\n",
      "\n",
      "Tool Call Input:\n",
      "# Extract the row for Tina Escobar to find her favorite city and the reason why.\n",
      "tina_escobar_info = df.loc[df['name'] == 'Tina Escobar', 'favourite_city_and_why'].values\n",
      "\n",
      "# Display Tina Escobar's favorite city and why.\n",
      "tina_escobar_info[0] if tina_escobar_info.size != 0 else \"Information not found\"\n",
      "\n",
      "Assistant Response: Tina Escobar's favorite city is New York. She loves it because of its vibrant city life and diversity. Additionally, she appreciates that it's home to the largest metropolitan zoo in the United States.\n"
     ]
    }
   ],
   "source": [
    "# Print conversation output  DO NOT RERUN!!!!!!!!!!!!!!!!!!!!!!!!!!!!!\n",
    "print(improved_hybrid_response[0])"
   ]
  },
  {
   "cell_type": "code",
   "execution_count": null,
   "metadata": {},
   "outputs": [
    {
     "data": {
      "text/plain": [
       "\"New York, because of its vibrant city life and diversity. because of its vibrant city life and diversity. Additionally, It's home to the largest metropolitan zoo in the US.\""
      ]
     },
     "metadata": {},
     "output_type": "display_data"
    }
   ],
   "source": [
    "# Extracting the row where Tina Escobar is mentioned\n",
    "tina_escobar_info = df[df['name'] == 'Tina Escobar']\n",
    "\n",
    "# Retrieving her favorite city and the reason\n",
    "tina_favorite_city = tina_escobar_info[['favourite_city_and_why']].values[0][0]\n",
    "tina_favorite_city"
   ]
  },
  {
   "cell_type": "markdown",
   "metadata": {},
   "source": [
    "### Advanced Assistant - Function Calling (Candidate)"
   ]
  },
  {
   "cell_type": "code",
   "execution_count": null,
   "metadata": {},
   "outputs": [],
   "source": [
    "improved_advanced_assistant = create_assistant(instructions='You are an assistant tasked with providing complete and untruncated answers to questions.  You must prioritize completeness over being concise.  ALL uploaded CSVs need to be converted by the function \\'process_csv\\' and will be returned as a JSON formatted string.  ALWAYS parse the JSON string before leveraging data to ask a question.', enable_function=True)"
   ]
  },
  {
   "cell_type": "code",
   "execution_count": 5,
   "metadata": {},
   "outputs": [
    {
     "name": "stdout",
     "output_type": "stream",
     "text": [
      "Run Status: queued\n",
      "Run Status: requires_action\n",
      "Processing CSV file: file-WKsPxrQbgCiBZdStyiaPyo\n",
      "Function output submitted for tool tool call id: call_mau4ps4eVOcDTOet5Rim7F2z\n",
      "Run Status: in_progress\n",
      "Run Status: in_progress\n",
      "Run Status: in_progress\n",
      "Run Status: in_progress\n",
      "Run Status: in_progress\n",
      "Run Status: in_progress\n",
      "Run Status: in_progress\n",
      "Run Status: in_progress\n",
      "Run Status: in_progress\n",
      "Run Status: in_progress\n",
      "Run Status: in_progress\n",
      "Run Status: in_progress\n",
      "Run Status: completed\n"
     ]
    }
   ],
   "source": [
    "# Prompt Assistant\n",
    "improved_advanced_response = prompt_assistant(assistant=improved_advanced_assistant, prompt='List everyone\\'s favorite city and why', file_path='tse_takehome_dataset.csv', debug=True)"
   ]
  },
  {
   "cell_type": "code",
   "execution_count": null,
   "metadata": {},
   "outputs": [
    {
     "name": "stdout",
     "output_type": "stream",
     "text": [
      "\n",
      "Function Call: process_csv with arguments {\"file_id\":\"file-WKsPxrQbgCiBZdStyiaPyo\"}\n",
      "\n",
      "Assistant Response: Here's a list of everyone’s favorite city along with the reasons why:\n",
      "\n",
      "1. **James Padilla**: \n",
      "   - **Favorite City**: London\n",
      "   - **Why**: For its historical landmarks and diverse cultural scene. Additionally, London has hosted the Summer Olympics three times: in 1908, 1948, and 2012.\n",
      "\n",
      "2. **Eric Rogers**:\n",
      "   - **Favorite City**: Paris\n",
      "   - **Why**: For its beautiful architecture. Additionally, The Eiffel Tower was intended to be a temporary installation for the 1889 World Fair.\n",
      "\n",
      "3. **Christopher King**:\n",
      "   - **Favorite City**: Tokyo\n",
      "   - **Why**: For its unique blend of traditional and modern culture. It's considered one of the world's most important and powerful global cities.\n",
      "\n",
      "4. **Tina Escobar**:\n",
      "   - **Favorite City**: New York\n",
      "   - **Why**: Because of its vibrant city life and diversity. Additionally, it's home to the largest metropolitan zoo in the US.\n",
      "\n",
      "5. **Joshua Lewis**:\n",
      "   - **Favorite City**: Paris\n",
      "   - **Why**: For its beautiful architecture. Paris is known as the 'City of Light' for its role during the Age of Enlightenment and its early use of gas street lighting.\n",
      "\n",
      "6. **Samantha Becker**:\n",
      "   - **Favorite City**: Sydney\n",
      "   - **Why**: For its stunning harbour. Additionally, Sydney Harbour Bridge is the world's largest steel arch bridge.\n",
      "\n",
      "7. **Jesse Crawford**:\n",
      "   - **Favorite City**: Sydney\n",
      "   - **Why**: For its stunning harbour. The Sydney Opera House design was inspired by orange segments.\n",
      "\n",
      "8. **Ronald Jones**:\n",
      "   - **Favorite City**: Sydney\n",
      "   - **Why**: For its stunning harbour. The Sydney Opera House design was inspired by orange segments.\n",
      "\n",
      "9. **Michael Ali**:\n",
      "   - **Favorite City**: London\n",
      "   - **Why**: For its historical landmarks and diverse cultural scene. London has hosted the Summer Olympics three times.\n",
      "\n",
      "10. **Kristy Alvarez**:\n",
      "    - **Favorite City**: New York\n",
      "    - **Why**: Because of its vibrant city life and diversity. It's home to the largest metropolitan zoo in the US.\n",
      "\n",
      "11. **Joseph Martinez**:\n",
      "    - **Favorite City**: Tokyo\n",
      "    - **Why**: For its unique blend of traditional and modern culture. Tokyo was once known as Edo.\n",
      "\n",
      "12. **Dr. Joel Simmons**:\n",
      "    - **Favorite City**: London\n",
      "    - **Why**: For its historical landmarks and diverse cultural scene. More than half of the London Underground network runs above ground.\n",
      "\n",
      "13. **Sarah King**:\n",
      "    - **Favorite City**: Tokyo\n",
      "    - **Why**: For its unique blend of traditional and modern culture. Tokyo was once known as Edo.\n",
      "\n",
      "14. **Sheila Bond**:\n",
      "    - **Favorite City**: Tokyo\n",
      "    - **Why**: For its unique blend of traditional and modern culture. Tokyo was once known as Edo.\n",
      "\n",
      "15. **Michael Lewis**:\n",
      "    - **Favorite City**: London\n",
      "    - **Why**: For its historical landmarks and diverse cultural scene. More than half of the London Underground network runs above ground.\n",
      "\n",
      "16. **Rachael Guerrero**:\n",
      "    - **Favorite City**: New York\n",
      "    - **Why**: Because of its vibrant city life and diversity. More than 800 languages are spoken in New York, making it the most linguistically diverse city in the world.\n",
      "\n",
      "17. **Paul Vega**:\n",
      "    - **Favorite City**: London\n",
      "    - **Why**: For its historical landmarks and diverse cultural scene. London has hosted the Summer Olympics three times.\n",
      "\n",
      "18. **Douglas Acosta**:\n",
      "    - **Favorite City**: Tokyo\n",
      "    - **Why**: For its unique blend of traditional and modern culture. It's considered one of the world's most important and powerful global cities.\n",
      "\n",
      "19. **Gabriel Roberts**:\n",
      "    - **Favorite City**: London\n",
      "    - **Why**: For its historical landmarks and diverse cultural scene. London has hosted the Summer Olympics three times.\n",
      "\n",
      "20. **Clifford Edwards**:\n",
      "    - **Favorite City**: Tokyo\n",
      "    - **Why**: For its unique blend of traditional and modern culture. It's considered one of the world's most important and powerful global cities.\n"
     ]
    }
   ],
   "source": [
    "# Print conversation output: Trial 2\n",
    "print(improved_advanced_response[0])"
   ]
  },
  {
   "cell_type": "code",
   "execution_count": null,
   "metadata": {},
   "outputs": [
    {
     "name": "stdout",
     "output_type": "stream",
     "text": [
      "\n",
      "Function Call: process_csv with arguments {\"file_id\":\"file-WKsPxrQbgCiBZdStyiaPyo\"}\n",
      "\n",
      "Assistant Response: Here's a list of everyone’s favorite city along with the reasons why:\n",
      "\n",
      "1. **James Padilla**: \n",
      "   - **Favorite City**: London\n",
      "   - **Why**: For its historical landmarks and diverse cultural scene. Additionally, London has hosted the Summer Olympics three times: in 1908, 1948, and 2012.\n",
      "\n",
      "2. **Eric Rogers**:\n",
      "   - **Favorite City**: Paris\n",
      "   - **Why**: For its beautiful architecture. Additionally, The Eiffel Tower was intended to be a temporary installation for the 1889 World Fair.\n",
      "\n",
      "3. **Christopher King**:\n",
      "   - **Favorite City**: Tokyo\n",
      "   - **Why**: For its unique blend of traditional and modern culture. It's considered one of the world's most important and powerful global cities.\n",
      "\n",
      "4. **Tina Escobar**:\n",
      "   - **Favorite City**: New York\n",
      "   - **Why**: Because of its vibrant city life and diversity. Additionally, it's home to the largest metropolitan zoo in the US.\n",
      "\n",
      "5. **Joshua Lewis**:\n",
      "   - **Favorite City**: Paris\n",
      "   - **Why**: For its beautiful architecture. Paris is known as the 'City of Light' for its role during the Age of Enlightenment and its early use of gas street lighting.\n",
      "\n",
      "6. **Samantha Becker**:\n",
      "   - **Favorite City**: Sydney\n",
      "   - **Why**: For its stunning harbour. Additionally, Sydney Harbour Bridge is the world's largest steel arch bridge.\n",
      "\n",
      "7. **Jesse Crawford**:\n",
      "   - **Favorite City**: Sydney\n",
      "   - **Why**: For its stunning harbour. The Sydney Opera House design was inspired by orange segments.\n",
      "\n",
      "8. **Ronald Jones**:\n",
      "   - **Favorite City**: Sydney\n",
      "   - **Why**: For its stunning harbour. The Sydney Opera House design was inspired by orange segments.\n",
      "\n",
      "9. **Michael Ali**:\n",
      "   - **Favorite City**: London\n",
      "   - **Why**: For its historical landmarks and diverse cultural scene. London has hosted the Summer Olympics three times.\n",
      "\n",
      "10. **Kristy Alvarez**:\n",
      "    - **Favorite City**: New York\n",
      "    - **Why**: Because of its vibrant city life and diversity. It's home to the largest metropolitan zoo in the US.\n",
      "\n",
      "11. **Joseph Martinez**:\n",
      "    - **Favorite City**: Tokyo\n",
      "    - **Why**: For its unique blend of traditional and modern culture. Tokyo was once known as Edo.\n",
      "\n",
      "12. **Dr. Joel Simmons**:\n",
      "    - **Favorite City**: London\n",
      "    - **Why**: For its historical landmarks and diverse cultural scene. More than half of the London Underground network runs above ground.\n",
      "\n",
      "13. **Sarah King**:\n",
      "    - **Favorite City**: Tokyo\n",
      "    - **Why**: For its unique blend of traditional and modern culture. Tokyo was once known as Edo.\n",
      "\n",
      "14. **Sheila Bond**:\n",
      "    - **Favorite City**: Tokyo\n",
      "    - **Why**: For its unique blend of traditional and modern culture. Tokyo was once known as Edo.\n",
      "\n",
      "15. **Michael Lewis**:\n",
      "    - **Favorite City**: London\n",
      "    - **Why**: For its historical landmarks and diverse cultural scene. More than half of the London Underground network runs above ground.\n",
      "\n",
      "16. **Rachael Guerrero**:\n",
      "    - **Favorite City**: New York\n",
      "    - **Why**: Because of its vibrant city life and diversity. More than 800 languages are spoken in New York, making it the most linguistically diverse city in the world.\n",
      "\n",
      "17. **Paul Vega**:\n",
      "    - **Favorite City**: London\n",
      "    - **Why**: For its historical landmarks and diverse cultural scene. London has hosted the Summer Olympics three times.\n",
      "\n",
      "18. **Douglas Acosta**:\n",
      "    - **Favorite City**: Tokyo\n",
      "    - **Why**: For its unique blend of traditional and modern culture. It's considered one of the world's most important and powerful global cities.\n",
      "\n",
      "19. **Gabriel Roberts**:\n",
      "    - **Favorite City**: London\n",
      "    - **Why**: For its historical landmarks and diverse cultural scene. London has hosted the Summer Olympics three times.\n",
      "\n",
      "20. **Clifford Edwards**:\n",
      "    - **Favorite City**: Tokyo\n",
      "    - **Why**: For its unique blend of traditional and modern culture. It's considered one of the world's most important and powerful global cities.\n"
     ]
    }
   ],
   "source": [
    "# Print conversation output: Trial 1\n",
    "print(improved_advanced_response[0])"
   ]
  }
 ],
 "metadata": {
  "kernelspec": {
   "display_name": "openai_project",
   "language": "python",
   "name": "python3"
  },
  "language_info": {
   "codemirror_mode": {
    "name": "ipython",
    "version": 3
   },
   "file_extension": ".py",
   "mimetype": "text/x-python",
   "name": "python",
   "nbconvert_exporter": "python",
   "pygments_lexer": "ipython3",
   "version": "3.13.2"
  }
 },
 "nbformat": 4,
 "nbformat_minor": 2
}
