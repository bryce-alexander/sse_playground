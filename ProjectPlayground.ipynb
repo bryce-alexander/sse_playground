{
 "cells": [
  {
   "cell_type": "markdown",
   "metadata": {},
   "source": [
    "## OpenAI Case Study - Experiment Playground"
   ]
  },
  {
   "cell_type": "markdown",
   "metadata": {},
   "source": [
    "### Imports & Config"
   ]
  },
  {
   "cell_type": "code",
   "execution_count": 2,
   "metadata": {},
   "outputs": [],
   "source": [
    "from assistant_helpers import create_assistant, prompt_assistant\n",
    "import pandas as pd\n",
    "import csv\n",
    "\n",
    "df = pd.read_csv('tse_takehome_dataset.csv')"
   ]
  },
  {
   "cell_type": "markdown",
   "metadata": {},
   "source": [
    "### Naive Assistant"
   ]
  },
  {
   "cell_type": "markdown",
   "metadata": {},
   "source": [
    "Assistant with no instruction set and weak prompt."
   ]
  },
  {
   "cell_type": "code",
   "execution_count": 2,
   "metadata": {},
   "outputs": [],
   "source": [
    "# Create Naive Assistant\n",
    "naive_assistant = create_assistant()"
   ]
  },
  {
   "cell_type": "code",
   "execution_count": 8,
   "metadata": {},
   "outputs": [],
   "source": [
    "# Prompt Naive Assistant\n",
    "naive_response = prompt_assistant(naive_assistant, prompt='Tell me tina escobars favorite city and why', file_path='tse_takehome_dataset.csv')"
   ]
  },
  {
   "cell_type": "code",
   "execution_count": 9,
   "metadata": {},
   "outputs": [
    {
     "name": "stdout",
     "output_type": "stream",
     "text": [
      "\n",
      "Assistant Response: Let's first take a look at the contents of the uploaded file to find out details about Tina Escobar's favorite city. I'll start by checking the structure and contents of the file.\n",
      "\n",
      "Tool Call Input:\n",
      "# Let's first read the file to understand its contents and format.\n",
      "file_path = '/mnt/data/file-WMiQ1qtEx6sidyriwNX3YG'\n",
      "\n",
      "# Trying to determine the file type\n",
      "import magic\n",
      "\n",
      "file_type = magic.from_file(file_path, mime=True)\n",
      "file_type\n",
      "\n",
      "Assistant Response: It seems that the `magic` library isn't available in this environment, so I'll take a different approach to determine the format of the uploaded file. I'll attempt to open it as a text file first, since text formats like CSV and JSON are common. Let's see what it contains.\n",
      "\n",
      "Tool Call Input:\n",
      "# Attempting to read the first few lines of the file to determine its format.\n",
      "try:\n",
      "    with open(file_path, 'r') as file:\n",
      "        # Read the first 512 characters to guess the format\n",
      "        content_preview = file.read(512)\n",
      "except Exception as e:\n",
      "    content_preview = str(e)\n",
      "\n",
      "content_preview\n",
      "\n",
      "Assistant Response: The file appears to be a CSV file containing various personal details, including a \"favourite_city_and_why\" field. Let's load the entire file to locate information specifically about Tina Escobar's favorite city and the reason she likes it.\n",
      "\n",
      "Tool Call Input:\n",
      "import pandas as pd\n",
      "\n",
      "# Reading the CSV file into a pandas DataFrame\n",
      "df = pd.read_csv(file_path)\n",
      "\n",
      "# Display the first few rows of the DataFrame to locate the information for Tina Escobar\n",
      "df.head()\n",
      "\n",
      "Assistant Response: Tina Escobar's favorite city is New York. She likes it because of its vibrant city life and the various opportunities it offers for exploration and activity.\n"
     ]
    }
   ],
   "source": [
    "# Print conversation output  DO NOT RERUN!!!!!!!!!!!!!!!!!!!!!!!!!!!!!\n",
    "print(naive_response[0])"
   ]
  },
  {
   "cell_type": "code",
   "execution_count": null,
   "metadata": {},
   "outputs": [
    {
     "data": {
      "text/html": [
       "<div>\n",
       "<style scoped>\n",
       "    .dataframe tbody tr th:only-of-type {\n",
       "        vertical-align: middle;\n",
       "    }\n",
       "\n",
       "    .dataframe tbody tr th {\n",
       "        vertical-align: top;\n",
       "    }\n",
       "\n",
       "    .dataframe thead th {\n",
       "        text-align: right;\n",
       "    }\n",
       "</style>\n",
       "<table border=\"1\" class=\"dataframe\">\n",
       "  <thead>\n",
       "    <tr style=\"text-align: right;\">\n",
       "      <th></th>\n",
       "      <th>date</th>\n",
       "      <th>name</th>\n",
       "      <th>company_name</th>\n",
       "      <th>description_of_company</th>\n",
       "      <th>favourite_memory</th>\n",
       "      <th>favourite_city_and_why</th>\n",
       "      <th>favourite_food_and_why</th>\n",
       "      <th>occupation</th>\n",
       "      <th>description_of_job</th>\n",
       "      <th>experience_relevant_to_job</th>\n",
       "      <th>growth_plan</th>\n",
       "    </tr>\n",
       "  </thead>\n",
       "  <tbody>\n",
       "    <tr>\n",
       "      <th>0</th>\n",
       "      <td>2023-08-13</td>\n",
       "      <td>James Padilla</td>\n",
       "      <td>Microsoft</td>\n",
       "      <td>An American multinational technology corporati...</td>\n",
       "      <td>Use world sure long fine dinner.</td>\n",
       "      <td>London, for its historical landmarks and diver...</td>\n",
       "      <td>Pizza, because it's versatile, delicious, and ...</td>\n",
       "      <td>Project Manager</td>\n",
       "      <td>Oversees projects from start to finish to ensu...</td>\n",
       "      <td>Game image scientist girl them receive.</td>\n",
       "      <td>Claim score out local meeting all.</td>\n",
       "    </tr>\n",
       "    <tr>\n",
       "      <th>1</th>\n",
       "      <td>2020-06-09</td>\n",
       "      <td>Eric Rogers</td>\n",
       "      <td>Facebook</td>\n",
       "      <td>An American online social media and social net...</td>\n",
       "      <td>Plant especially information clear.</td>\n",
       "      <td>Paris, for its beautiful architecture for its ...</td>\n",
       "      <td>Chocolate, because it's comforting, decadent, ...</td>\n",
       "      <td>Product Manager</td>\n",
       "      <td>Oversees the development of products from conc...</td>\n",
       "      <td>Decide despite then environment.</td>\n",
       "      <td>Enough order degree appear trial design ten no...</td>\n",
       "    </tr>\n",
       "    <tr>\n",
       "      <th>2</th>\n",
       "      <td>2023-12-17</td>\n",
       "      <td>Christopher King</td>\n",
       "      <td>Google</td>\n",
       "      <td>A multinational technology company that specia...</td>\n",
       "      <td>Thus bad front decade.</td>\n",
       "      <td>Tokyo, for its unique blend of traditional and...</td>\n",
       "      <td>Sushi, for its fresh flavors and artful presen...</td>\n",
       "      <td>Graphic Designer</td>\n",
       "      <td>Creates visual concepts to communicate ideas t...</td>\n",
       "      <td>Very development lead point.</td>\n",
       "      <td>Finally glass officer group fill house hard ca...</td>\n",
       "    </tr>\n",
       "    <tr>\n",
       "      <th>3</th>\n",
       "      <td>2023-02-22</td>\n",
       "      <td>Tina Escobar</td>\n",
       "      <td>Microsoft</td>\n",
       "      <td>An American multinational technology corporati...</td>\n",
       "      <td>Their small walk want blood worry wish.</td>\n",
       "      <td>New York, because of its vibrant city life and...</td>\n",
       "      <td>Pasta, for its comfort, versatility in dishes,...</td>\n",
       "      <td>Data Analyst</td>\n",
       "      <td>Interprets data and turns it into information ...</td>\n",
       "      <td>Raise physical show sing.</td>\n",
       "      <td>Computer either stand responsibility serve eve...</td>\n",
       "    </tr>\n",
       "    <tr>\n",
       "      <th>4</th>\n",
       "      <td>2019-12-05</td>\n",
       "      <td>Joshua Lewis</td>\n",
       "      <td>Google</td>\n",
       "      <td>An American multinational technology corporati...</td>\n",
       "      <td>Give friend green eat agent finally fine.</td>\n",
       "      <td>Paris, for its beautiful architecture for its ...</td>\n",
       "      <td>Pizza, because it's versatile, delicious, and ...</td>\n",
       "      <td>Software Engineer</td>\n",
       "      <td>Develops and maintains software applications.</td>\n",
       "      <td>Foot night morning anything.</td>\n",
       "      <td>Color wind look enjoy our task true thousand t...</td>\n",
       "    </tr>\n",
       "  </tbody>\n",
       "</table>\n",
       "</div>"
      ],
      "text/plain": [
       "         date              name company_name  \\\n",
       "0  2023-08-13     James Padilla    Microsoft   \n",
       "1  2020-06-09       Eric Rogers     Facebook   \n",
       "2  2023-12-17  Christopher King       Google   \n",
       "3  2023-02-22      Tina Escobar    Microsoft   \n",
       "4  2019-12-05      Joshua Lewis       Google   \n",
       "\n",
       "                              description_of_company  \\\n",
       "0  An American multinational technology corporati...   \n",
       "1  An American online social media and social net...   \n",
       "2  A multinational technology company that specia...   \n",
       "3  An American multinational technology corporati...   \n",
       "4  An American multinational technology corporati...   \n",
       "\n",
       "                            favourite_memory  \\\n",
       "0           Use world sure long fine dinner.   \n",
       "1        Plant especially information clear.   \n",
       "2                     Thus bad front decade.   \n",
       "3    Their small walk want blood worry wish.   \n",
       "4  Give friend green eat agent finally fine.   \n",
       "\n",
       "                              favourite_city_and_why  \\\n",
       "0  London, for its historical landmarks and diver...   \n",
       "1  Paris, for its beautiful architecture for its ...   \n",
       "2  Tokyo, for its unique blend of traditional and...   \n",
       "3  New York, because of its vibrant city life and...   \n",
       "4  Paris, for its beautiful architecture for its ...   \n",
       "\n",
       "                              favourite_food_and_why         occupation  \\\n",
       "0  Pizza, because it's versatile, delicious, and ...    Project Manager   \n",
       "1  Chocolate, because it's comforting, decadent, ...    Product Manager   \n",
       "2  Sushi, for its fresh flavors and artful presen...   Graphic Designer   \n",
       "3  Pasta, for its comfort, versatility in dishes,...       Data Analyst   \n",
       "4  Pizza, because it's versatile, delicious, and ...  Software Engineer   \n",
       "\n",
       "                                  description_of_job  \\\n",
       "0  Oversees projects from start to finish to ensu...   \n",
       "1  Oversees the development of products from conc...   \n",
       "2  Creates visual concepts to communicate ideas t...   \n",
       "3  Interprets data and turns it into information ...   \n",
       "4      Develops and maintains software applications.   \n",
       "\n",
       "                experience_relevant_to_job  \\\n",
       "0  Game image scientist girl them receive.   \n",
       "1         Decide despite then environment.   \n",
       "2             Very development lead point.   \n",
       "3                Raise physical show sing.   \n",
       "4             Foot night morning anything.   \n",
       "\n",
       "                                         growth_plan  \n",
       "0                 Claim score out local meeting all.  \n",
       "1  Enough order degree appear trial design ten no...  \n",
       "2  Finally glass officer group fill house hard ca...  \n",
       "3  Computer either stand responsibility serve eve...  \n",
       "4  Color wind look enjoy our task true thousand t...  "
      ]
     },
     "execution_count": 9,
     "metadata": {},
     "output_type": "execute_result"
    }
   ],
   "source": [
    "# Reproduce call to pandas from code interpreter\n",
    "df.head()"
   ]
  },
  {
   "cell_type": "markdown",
   "metadata": {},
   "source": [
    "### Improved Assistant - Better Prompts"
   ]
  },
  {
   "cell_type": "markdown",
   "metadata": {},
   "source": [
    "Assistant with more specific prompt"
   ]
  },
  {
   "cell_type": "markdown",
   "metadata": {},
   "source": [
    "##### V1 - Instructs not to use DF.head()"
   ]
  },
  {
   "cell_type": "code",
   "execution_count": 2,
   "metadata": {},
   "outputs": [],
   "source": [
    "improved_prompt_assistant = create_assistant()"
   ]
  },
  {
   "cell_type": "code",
   "execution_count": null,
   "metadata": {},
   "outputs": [],
   "source": [
    "# Prompt Naive Assistant\n",
    "improved_prompt_response = prompt_assistant(assistant=improved_prompt_assistant, prompt='Review the attached CSV and extract all information from all fields.  DO NOT use data.head() to get your answer. Tell me Tina Escobars favorite city and why, including ALL details in the relevant field.', file_path='tse_takehome_dataset.csv')"
   ]
  },
  {
   "cell_type": "code",
   "execution_count": 17,
   "metadata": {},
   "outputs": [
    {
     "name": "stdout",
     "output_type": "stream",
     "text": [
      "\n",
      "Tool Call Input:\n",
      "import pandas as pd\n",
      "\n",
      "# Load the CSV file into a DataFrame\n",
      "file_path = '/mnt/data/file-TNGD9VCj1Bcn1Cu6NHVzra'\n",
      "data = pd.read_csv(file_path)\n",
      "\n",
      "# Display all the information from all fields\n",
      "data_info = data.to_dict(orient='records')\n",
      "data_info\n",
      "\n",
      "Assistant Response: Tina Escobar's favorite city is New York. Here is why she prefers it:\n",
      "\n",
      "- **City**: New York\n",
      "- **Reasons**: Because of its vibrant city life and diversity.\n",
      "- **Additional Detail**: It's home to the largest metropolitan zoo in the US.\n",
      "\n",
      "This information includes all the details provided in the relevant field for Tina Escobar's favorite city.\n"
     ]
    }
   ],
   "source": [
    "# Print conversation output  DO NOT RERUN!!!!!!!!!!!!!!!!!!!!!!!!!!!!!\n",
    "print(improved_prompt_response[0])"
   ]
  },
  {
   "cell_type": "code",
   "execution_count": 20,
   "metadata": {},
   "outputs": [
    {
     "data": {
      "text/plain": [
       "[{'date': '2023-08-13',\n",
       "  'name': 'James Padilla',\n",
       "  'company_name': 'Microsoft',\n",
       "  'description_of_company': 'An American multinational technology corporation which produces computer software, consumer electronics, personal computers, and related services.',\n",
       "  'favourite_memory': 'Use world sure long fine dinner.',\n",
       "  'favourite_city_and_why': 'London, for its historical landmarks and diverse cultural scene. for its historical landmarks and diverse cultural scene. Additionally, London has hosted the Summer Olympics three times: in 1908, 1948, and 2012.',\n",
       "  'favourite_food_and_why': \"Pizza, because it's versatile, delicious, and brings people together.\",\n",
       "  'occupation': 'Project Manager',\n",
       "  'description_of_job': 'Oversees projects from start to finish to ensure they meet company goals.',\n",
       "  'experience_relevant_to_job': 'Game image scientist girl them receive.',\n",
       "  'growth_plan': 'Claim score out local meeting all.'},\n",
       " {'date': '2020-06-09',\n",
       "  'name': 'Eric Rogers',\n",
       "  'company_name': 'Facebook',\n",
       "  'description_of_company': 'An American online social media and social networking service owned by Meta Platforms.',\n",
       "  'favourite_memory': 'Plant especially information clear.',\n",
       "  'favourite_city_and_why': 'Paris, for its beautiful architecture for its beautiful architecture Additionally, The Eiffel Tower was supposed to be a temporary installation, intended to stand for 20 years after being constructed for the 1889 World Fair.',\n",
       "  'favourite_food_and_why': \"Chocolate, because it's comforting, decadent, and a sweet treat for any occasion.\",\n",
       "  'occupation': 'Product Manager',\n",
       "  'description_of_job': 'Oversees the development of products from conception through launch.',\n",
       "  'experience_relevant_to_job': 'Decide despite then environment.',\n",
       "  'growth_plan': 'Enough order degree appear trial design ten nothing be.'},\n",
       " {'date': '2023-12-17',\n",
       "  'name': 'Christopher King',\n",
       "  'company_name': 'Google',\n",
       "  'description_of_company': 'A multinational technology company that specializes in Internet-related services and products.',\n",
       "  'favourite_memory': 'Thus bad front decade.',\n",
       "  'favourite_city_and_why': \"Tokyo, for its unique blend of traditional and modern for its unique blend of traditional and modern Additionally, It's considered one of the world's most important and powerful global cities.\",\n",
       "  'favourite_food_and_why': 'Sushi, for its fresh flavors and artful presentation.',\n",
       "  'occupation': 'Graphic Designer',\n",
       "  'description_of_job': 'Creates visual concepts to communicate ideas that inspire, inform, or captivate consumers.',\n",
       "  'experience_relevant_to_job': 'Very development lead point.',\n",
       "  'growth_plan': 'Finally glass officer group fill house hard camera.'},\n",
       " {'date': '2023-02-22',\n",
       "  'name': 'Tina Escobar',\n",
       "  'company_name': 'Microsoft',\n",
       "  'description_of_company': 'An American multinational technology corporation which produces computer software, consumer electronics, personal computers, and related services.',\n",
       "  'favourite_memory': 'Their small walk want blood worry wish.',\n",
       "  'favourite_city_and_why': \"New York, because of its vibrant city life and diversity. because of its vibrant city life and diversity. Additionally, It's home to the largest metropolitan zoo in the US.\",\n",
       "  'favourite_food_and_why': 'Pasta, for its comfort, versatility in dishes, and rich flavors.',\n",
       "  'occupation': 'Data Analyst',\n",
       "  'description_of_job': 'Interprets data and turns it into information which can offer ways to improve a business.',\n",
       "  'experience_relevant_to_job': 'Raise physical show sing.',\n",
       "  'growth_plan': 'Computer either stand responsibility serve ever performance financial ahead cold.'},\n",
       " {'date': '2019-12-05',\n",
       "  'name': 'Joshua Lewis',\n",
       "  'company_name': 'Google',\n",
       "  'description_of_company': 'An American multinational technology corporation which produces computer software, consumer electronics, personal computers, and related services.',\n",
       "  'favourite_memory': 'Give friend green eat agent finally fine.',\n",
       "  'favourite_city_and_why': \"Paris, for its beautiful architecture for its beautiful architecture Additionally, Paris is known as the 'City of Light', originally because of its leading role during the Age of Enlightenment and more literally because Paris was one of the first large European cities to use gas street lighting on a grand scale on its boulevards and monuments.\",\n",
       "  'favourite_food_and_why': \"Pizza, because it's versatile, delicious, and brings people together.\",\n",
       "  'occupation': 'Software Engineer',\n",
       "  'description_of_job': 'Develops and maintains software applications.',\n",
       "  'experience_relevant_to_job': 'Foot night morning anything.',\n",
       "  'growth_plan': 'Color wind look enjoy our task true thousand themselves number.'},\n",
       " {'date': '2020-06-01',\n",
       "  'name': 'Samantha Becker',\n",
       "  'company_name': 'Facebook',\n",
       "  'description_of_company': 'An American online social media and social networking service owned by Meta Platforms.',\n",
       "  'favourite_memory': 'Page campaign interesting talk meeting mission oil.',\n",
       "  'favourite_city_and_why': \"Sydney, for its stunning harbour for its stunning harbour Additionally, Sydney Harbour Bridge is the world's largest steel arch bridge.\",\n",
       "  'favourite_food_and_why': \"Chocolate, because it's comforting, decadent, and a sweet treat for any occasion.\",\n",
       "  'occupation': 'Graphic Designer',\n",
       "  'description_of_job': 'Creates visual concepts to communicate ideas that inspire, inform, or captivate consumers.',\n",
       "  'experience_relevant_to_job': 'Write office tree.',\n",
       "  'growth_plan': 'Event hotel population hot prepare community group rule possible four.'},\n",
       " {'date': '2022-05-15',\n",
       "  'name': 'Jesse Crawford',\n",
       "  'company_name': 'Tesla',\n",
       "  'description_of_company': 'An American electric vehicle and clean energy company.',\n",
       "  'favourite_memory': 'Brother likely will radio far.',\n",
       "  'favourite_city_and_why': 'Sydney, for its stunning harbour for its stunning harbour Additionally, The Sydney Opera House design was inspired by orange segments.',\n",
       "  'favourite_food_and_why': 'Pasta, for its comfort, versatility in dishes, and rich flavors.',\n",
       "  'occupation': 'Software Engineer',\n",
       "  'description_of_job': 'Develops and maintains software applications.',\n",
       "  'experience_relevant_to_job': 'Former lawyer law note.',\n",
       "  'growth_plan': 'Certainly seat note carry positive.'},\n",
       " {'date': '2020-12-16',\n",
       "  'name': 'Ronald Jones',\n",
       "  'company_name': 'Facebook',\n",
       "  'description_of_company': 'An American online social media and social networking service owned by Meta Platforms.',\n",
       "  'favourite_memory': 'Yeah religious already style.',\n",
       "  'favourite_city_and_why': 'Sydney, for its stunning harbour for its stunning harbour Additionally, The Sydney Opera House design was inspired by orange segments.',\n",
       "  'favourite_food_and_why': \"Pizza, because it's versatile, delicious, and brings people together.\",\n",
       "  'occupation': 'Graphic Designer',\n",
       "  'description_of_job': 'Creates visual concepts to communicate ideas that inspire, inform, or captivate consumers.',\n",
       "  'experience_relevant_to_job': 'Pass he law garden player.',\n",
       "  'growth_plan': 'Central nice down general physical today enter character.'},\n",
       " {'date': '2019-06-16',\n",
       "  'name': 'Michael Ali',\n",
       "  'company_name': 'Google',\n",
       "  'description_of_company': 'A multinational technology company that specializes in Internet-related services and products.',\n",
       "  'favourite_memory': 'Rule she history claim.',\n",
       "  'favourite_city_and_why': 'London, for its historical landmarks and diverse cultural scene. for its historical landmarks and diverse cultural scene. Additionally, London has hosted the Summer Olympics three times: in 1908, 1948, and 2012.',\n",
       "  'favourite_food_and_why': 'Tacos, for their flavor-packed bites and customizable fillings.',\n",
       "  'occupation': 'Data Analyst',\n",
       "  'description_of_job': 'Interprets data and turns it into information which can offer ways to improve a business.',\n",
       "  'experience_relevant_to_job': 'Along system throw indicate our degree.',\n",
       "  'growth_plan': 'Involve behind he take hard civil.'},\n",
       " {'date': '2020-01-18',\n",
       "  'name': 'Kristy Alvarez',\n",
       "  'company_name': 'Microsoft',\n",
       "  'description_of_company': 'An American multinational technology corporation which produces computer software, consumer electronics, personal computers, and related services.',\n",
       "  'favourite_memory': 'Hear inside prove gun.',\n",
       "  'favourite_city_and_why': \"New York, because of its vibrant city life and diversity. because of its vibrant city life and diversity. Additionally, It's home to the largest metropolitan zoo in the US.\",\n",
       "  'favourite_food_and_why': 'Sushi, for its fresh flavors and artful presentation.',\n",
       "  'occupation': 'Data Analyst',\n",
       "  'description_of_job': 'Interprets data and turns it into information which can offer ways to improve a business.',\n",
       "  'experience_relevant_to_job': 'Form like professional sound theory live.',\n",
       "  'growth_plan': 'Movie management behavior impact sea appear.'},\n",
       " {'date': '2021-06-23',\n",
       "  'name': 'Joseph Martinez',\n",
       "  'company_name': 'Tesla',\n",
       "  'description_of_company': 'An American electric vehicle and clean energy company.',\n",
       "  'favourite_memory': 'Always successful indeed easy behavior growth.',\n",
       "  'favourite_city_and_why': 'Tokyo, for its unique blend of traditional and modern for its unique blend of traditional and modern Additionally, Tokyo was once known as Edo.',\n",
       "  'favourite_food_and_why': \"Pizza, because it's versatile, delicious, and brings people together.\",\n",
       "  'occupation': 'Project Manager',\n",
       "  'description_of_job': 'Oversees projects from start to finish to ensure they meet company goals.',\n",
       "  'experience_relevant_to_job': 'Power guy exactly catch staff sister herself.',\n",
       "  'growth_plan': 'Type along oil recent course.'},\n",
       " {'date': '2022-07-23',\n",
       "  'name': 'Dr. Joel Simmons',\n",
       "  'company_name': 'Google',\n",
       "  'description_of_company': 'A multinational technology company that specializes in Internet-related services and products.',\n",
       "  'favourite_memory': 'Appear building sense century military always.',\n",
       "  'favourite_city_and_why': 'London, for its historical landmarks and diverse cultural scene. for its historical landmarks and diverse cultural scene. Additionally, More than half of the London Underground network actually runs above ground.',\n",
       "  'favourite_food_and_why': 'Sushi, for its fresh flavors and artful presentation.',\n",
       "  'occupation': 'Data Analyst',\n",
       "  'description_of_job': 'Interprets data and turns it into information which can offer ways to improve a business.',\n",
       "  'experience_relevant_to_job': 'Player they station listen.',\n",
       "  'growth_plan': 'Certain hold effect top.'},\n",
       " {'date': '2023-05-06',\n",
       "  'name': 'Sarah King',\n",
       "  'company_name': 'Google',\n",
       "  'description_of_company': 'A multinational technology company that specializes in Internet-related services and products.',\n",
       "  'favourite_memory': 'Decision once that film team article.',\n",
       "  'favourite_city_and_why': 'Tokyo, for its unique blend of traditional and modern for its unique blend of traditional and modern Additionally, Tokyo was once known as Edo.',\n",
       "  'favourite_food_and_why': 'Pasta, for its comfort, versatility in dishes, and rich flavors.',\n",
       "  'occupation': 'Project Manager',\n",
       "  'description_of_job': 'Oversees projects from start to finish to ensure they meet company goals.',\n",
       "  'experience_relevant_to_job': 'One senior light popular resource.',\n",
       "  'growth_plan': 'Though production sell difference case.'},\n",
       " {'date': '2023-12-01',\n",
       "  'name': 'Sheila Bond',\n",
       "  'company_name': 'Amazon',\n",
       "  'description_of_company': 'An American multinational conglomerate which focuses on e-commerce, cloud computing, digital streaming, and artificial intelligence.',\n",
       "  'favourite_memory': 'House recent design indicate.',\n",
       "  'favourite_city_and_why': 'Tokyo, for its unique blend of traditional and modern for its unique blend of traditional and modern Additionally, Tokyo was once known as Edo.',\n",
       "  'favourite_food_and_why': \"Pizza, because it's versatile, delicious, and brings people together.\",\n",
       "  'occupation': 'Project Manager',\n",
       "  'description_of_job': 'Oversees projects from start to finish to ensure they meet company goals.',\n",
       "  'experience_relevant_to_job': 'Near indeed music boy now something cup.',\n",
       "  'growth_plan': 'Time sure popular them main anything ok beautiful.'},\n",
       " {'date': '2022-08-22',\n",
       "  'name': 'Michael Lewis',\n",
       "  'company_name': 'Amazon',\n",
       "  'description_of_company': 'An American multinational conglomerate which focuses on e-commerce, cloud computing, digital streaming, and artificial intelligence.',\n",
       "  'favourite_memory': 'Task single hold cut town reason economy.',\n",
       "  'favourite_city_and_why': 'London, for its historical landmarks and diverse cultural scene. for its historical landmarks and diverse cultural scene. Additionally, More than half of the London Underground network actually runs above ground.',\n",
       "  'favourite_food_and_why': 'Tacos, for their flavor-packed bites and customizable fillings.',\n",
       "  'occupation': 'Software Engineer',\n",
       "  'description_of_job': 'Develops and maintains software applications.',\n",
       "  'experience_relevant_to_job': 'Like site moment consumer.',\n",
       "  'growth_plan': 'Easy staff data say represent pretty central will their oil.'},\n",
       " {'date': '2022-02-24',\n",
       "  'name': 'Rachael Guerrero',\n",
       "  'company_name': 'Facebook',\n",
       "  'description_of_company': 'An American online social media and social networking service owned by Meta Platforms.',\n",
       "  'favourite_memory': 'Hard on single nor nor relate expect.',\n",
       "  'favourite_city_and_why': 'New York, because of its vibrant city life and diversity. because of its vibrant city life and diversity. Additionally, More than 800 languages are spoken in New York, making it the most linguistically diverse city in the world.',\n",
       "  'favourite_food_and_why': 'Tacos, for their flavor-packed bites and customizable fillings.',\n",
       "  'occupation': 'Graphic Designer',\n",
       "  'description_of_job': 'Creates visual concepts to communicate ideas that inspire, inform, or captivate consumers.',\n",
       "  'experience_relevant_to_job': 'Huge woman car environmental listen.',\n",
       "  'growth_plan': 'Final cup speak institution gas several place run then sell.'},\n",
       " {'date': '2019-05-04',\n",
       "  'name': 'Paul Vega',\n",
       "  'company_name': 'Facebook',\n",
       "  'description_of_company': 'An American online social media and social networking service owned by Meta Platforms.',\n",
       "  'favourite_memory': 'Peace court happy challenge your cause quickly.',\n",
       "  'favourite_city_and_why': 'London, for its historical landmarks and diverse cultural scene. for its historical landmarks and diverse cultural scene. Additionally, London has hosted the Summer Olympics three times: in 1908, 1948, and 2012.',\n",
       "  'favourite_food_and_why': 'Pasta, for its comfort, versatility in dishes, and rich flavors.',\n",
       "  'occupation': 'Data Analyst',\n",
       "  'description_of_job': 'Interprets data and turns it into information which can offer ways to improve a business.',\n",
       "  'experience_relevant_to_job': 'Simple oil room but.',\n",
       "  'growth_plan': 'Resource American himself cover black.'},\n",
       " {'date': '2023-08-15',\n",
       "  'name': 'Douglas Acosta',\n",
       "  'company_name': 'Microsoft',\n",
       "  'description_of_company': 'An American multinational technology corporation which produces computer software, consumer electronics, personal computers, and related services.',\n",
       "  'favourite_memory': 'Drop simply him newspaper use way clearly.',\n",
       "  'favourite_city_and_why': \"Tokyo, for its unique blend of traditional and modern for its unique blend of traditional and modern Additionally, It's considered one of the world's most important and powerful global cities.\",\n",
       "  'favourite_food_and_why': 'Pasta, for its comfort, versatility in dishes, and rich flavors.',\n",
       "  'occupation': 'Product Manager',\n",
       "  'description_of_job': 'Oversees the development of products from conception through launch.',\n",
       "  'experience_relevant_to_job': 'Learn agree claim fund.',\n",
       "  'growth_plan': 'Still media fund entire participant time turn accept need TV.'},\n",
       " {'date': '2023-02-23',\n",
       "  'name': 'Gabriel Roberts',\n",
       "  'company_name': 'Microsoft',\n",
       "  'description_of_company': 'An American multinational technology corporation which produces computer software, consumer electronics, personal computers, and related services.',\n",
       "  'favourite_memory': 'Son evidence collection region general there.',\n",
       "  'favourite_city_and_why': 'London, for its historical landmarks and diverse cultural scene. for its historical landmarks and diverse cultural scene. Additionally, London has hosted the Summer Olympics three times: in 1908, 1948, and 2012.',\n",
       "  'favourite_food_and_why': 'Sushi, for its fresh flavors and artful presentation.',\n",
       "  'occupation': 'Data Analyst',\n",
       "  'description_of_job': 'Interprets data and turns it into information which can offer ways to improve a business.',\n",
       "  'experience_relevant_to_job': 'Onto administration police threat like food.',\n",
       "  'growth_plan': 'Explain build billion morning challenge why.'},\n",
       " {'date': '2022-11-07',\n",
       "  'name': 'Clifford Edwards',\n",
       "  'company_name': 'Amazon',\n",
       "  'description_of_company': 'An American multinational conglomerate which focuses on e-commerce, cloud computing, digital streaming, and artificial intelligence.',\n",
       "  'favourite_memory': 'Brother pick thought.',\n",
       "  'favourite_city_and_why': \"Tokyo, for its unique blend of traditional and modern for its unique blend of traditional and modern Additionally, It's considered one of the world's most important and powerful global cities.\",\n",
       "  'favourite_food_and_why': \"Chocolate, because it's comforting, decadent, and a sweet treat for any occasion.\",\n",
       "  'occupation': 'Software Engineer',\n",
       "  'description_of_job': 'Develops and maintains software applications.',\n",
       "  'experience_relevant_to_job': 'Even threat every real experience poor.',\n",
       "  'growth_plan': 'Particularly news seem entire play.'}]"
      ]
     },
     "execution_count": 20,
     "metadata": {},
     "output_type": "execute_result"
    }
   ],
   "source": [
    "# Reproduce call to pandas from code interpreter\n",
    "data_info = df.to_dict(orient='records')\n",
    "\n",
    "data_info"
   ]
  },
  {
   "cell_type": "markdown",
   "metadata": {},
   "source": [
    "##### V2 - Explicitly directs to extract CSV to Dict"
   ]
  },
  {
   "cell_type": "code",
   "execution_count": null,
   "metadata": {},
   "outputs": [],
   "source": [
    "improved_prompt_assistant_v2 = create_assistant()"
   ]
  },
  {
   "cell_type": "code",
   "execution_count": null,
   "metadata": {},
   "outputs": [],
   "source": [
    "# Prompt Naive Assistant\n",
    "improved_prompt_response_v2 = prompt_assistant(assistant=improved_prompt_assistant_v2, prompt='Extract all information in the attached CSV into a dict. Tell me Tina Escobars favorite city and why, including ALL details in the relevant field you created.  ', file_path='tse_takehome_dataset.csv')"
   ]
  },
  {
   "cell_type": "code",
   "execution_count": null,
   "metadata": {},
   "outputs": [
    {
     "name": "stdout",
     "output_type": "stream",
     "text": [
      "\n",
      "Assistant Response: First, I will read the contents of the uploaded CSV file to examine its structure and contents. Then, I'll extract the information into a dictionary.\n",
      "\n",
      "Tool Call Input:\n",
      "import pandas as pd\n",
      "\n",
      "# Load the CSV file into a DataFrame\n",
      "file_path = '/mnt/data/file-HUpmKBj6PyZdSjKxuV7aUY'\n",
      "df = pd.read_csv(file_path)\n",
      "\n",
      "# Display the first few rows of the DataFrame to understand its structure\n",
      "df.head()\n",
      "\n",
      "Assistant Response: The CSV file contains several columns related to individuals and their preferences, including favorite cities and their reasons. \n",
      "\n",
      "Now, I will extract all of this information into a dictionary. Then, I will look specifically for the details regarding Tina Escobar's favorite city. Let's proceed with this extraction and analysis.\n",
      "\n",
      "Tool Call Input:\n",
      "# Convert the DataFrame to a list of dictionaries\n",
      "data_dict = df.to_dict(orient='records')\n",
      "\n",
      "# Find the entry for Tina Escobar to get information about her favorite city\n",
      "tina_escobar_info = next((entry for entry in data_dict if entry['name'] == 'Tina Escobar'), None)\n",
      "\n",
      "# Extract Tina Escobar's favorite city and why\n",
      "tina_fav_city_info = tina_escobar_info['favourite_city_and_why'] if tina_escobar_info else \"Not found\"\n",
      "\n",
      "data_dict, tina_fav_city_info\n",
      "\n",
      "Assistant Response: The information for Tina Escobar's favorite city and the reason why she likes it is as follows:\n",
      "\n",
      "- **Favorite City:** New York\n",
      "- **Reason:** Because of its vibrant city life and diversity. Additionally, it's home to the largest metropolitan zoo in the US.\n",
      "\n",
      "This detailed description provides insight into why Tina finds New York appealing.\n"
     ]
    }
   ],
   "source": [
    "# Print conversation output  DO NOT RERUN!!!!!!!!!!!!!!!!!!!!!!!!!!!!!\n",
    "print(improved_prompt_response_v2[0])"
   ]
  },
  {
   "cell_type": "code",
   "execution_count": null,
   "metadata": {},
   "outputs": [
    {
     "data": {
      "text/plain": [
       "{'date': '2023-02-22',\n",
       " 'name': 'Tina Escobar',\n",
       " 'company_name': 'Microsoft',\n",
       " 'description_of_company': 'An American multinational technology corporation which produces computer software, consumer electronics, personal computers, and related services.',\n",
       " 'favourite_memory': 'Their small walk want blood worry wish.',\n",
       " 'favourite_city_and_why': \"New York, because of its vibrant city life and diversity. because of its vibrant city life and diversity. Additionally, It's home to the largest metropolitan zoo in the US.\",\n",
       " 'favourite_food_and_why': 'Pasta, for its comfort, versatility in dishes, and rich flavors.',\n",
       " 'occupation': 'Data Analyst',\n",
       " 'description_of_job': 'Interprets data and turns it into information which can offer ways to improve a business.',\n",
       " 'experience_relevant_to_job': 'Raise physical show sing.',\n",
       " 'growth_plan': 'Computer either stand responsibility serve ever performance financial ahead cold.'}"
      ]
     },
     "metadata": {},
     "output_type": "display_data"
    }
   ],
   "source": [
    "# Reproduce call to pandas from code interpreter\n",
    "data_dict = df.to_dict(orient='records')\n",
    "\n",
    "tina_escobar_info = next((entry for entry in data_dict if entry['name'] == 'Tina Escobar'), None)\n",
    "\n",
    "tina_escobar_info"
   ]
  },
  {
   "cell_type": "markdown",
   "metadata": {},
   "source": [
    "##### V3 - Emphasizes completeness."
   ]
  },
  {
   "cell_type": "code",
   "execution_count": 34,
   "metadata": {},
   "outputs": [],
   "source": [
    "improved_prompt_assistant_v3 = create_assistant()"
   ]
  },
  {
   "cell_type": "code",
   "execution_count": null,
   "metadata": {},
   "outputs": [],
   "source": [
    "# Prompt Assistant\n",
    "improved_prompt_response_v3 = prompt_assistant(assistant=improved_prompt_assistant_v3, prompt='Tell me Tina Escobars favorite city and why, including ALL details in the relevant field.  You MUST emphasize completeness over being concise. ', file_path='tse_takehome_dataset.csv')"
   ]
  },
  {
   "cell_type": "code",
   "execution_count": 46,
   "metadata": {},
   "outputs": [
    {
     "name": "stdout",
     "output_type": "stream",
     "text": [
      "\n",
      "Assistant Response: To assist you with this request, I'll first examine the contents of the uploaded file to locate the relevant information about Tina Escobar's favorite city and the reasons behind her preference. Let's open and review the file.\n",
      "\n",
      "Tool Call Input:\n",
      "# Let's start by checking the contents of the uploaded file to understand its format and locate the required information.\n",
      "file_path = '/mnt/data/file-5mPJhLTuNVFjiTaTsyA7Z9'\n",
      "with open(file_path, 'r', encoding='utf-8') as file:\n",
      "    content = file.read()\n",
      "\n",
      "# Display the first few hundred characters to get an overview of the contents\n",
      "content[:500]\n",
      "\n",
      "Assistant Response: The file appears to be in a CSV format, containing fields such as `date`, `name`, `company_name`, `description_of_company`, `favourite_memory`, `favourite_city_and_why`, and so on. Tina Escobar's favorite city and the reason for her preference should be in the `favourite_city_and_why` field. Let's parse the file to extract this specific information for Tina Escobar.\n",
      "\n",
      "Tool Call Input:\n",
      "import csv\n",
      "\n",
      "# Define the target individual\n",
      "target_name = \"Tina Escobar\"\n",
      "favorite_city_info = None\n",
      "\n",
      "# Read through the CSV file\n",
      "with open(file_path, mode='r', encoding='utf-8') as csvfile:\n",
      "    reader = csv.DictReader(csvfile)\n",
      "    for row in reader:\n",
      "        if row['name'] == target_name:\n",
      "            # Capture the 'favourite_city_and_why' details for Tina Escobar\n",
      "            favorite_city_info = row.get('favourite_city_and_why', None)\n",
      "            break\n",
      "\n",
      "favorite_city_info\n",
      "\n",
      "Assistant Response: Tina Escobar's favorite city is New York. She appreciates it for its vibrant city life and diversity. Additionally, she mentions that New York is home to the largest metropolitan zoo in the United States, which is another factor contributing to her preference for the city.\n"
     ]
    }
   ],
   "source": [
    "# Print conversation output  DO NOT RERUN!!!!!!!!!!!!!!!!!!!!!!!!!!!!!\n",
    "print(improved_prompt_response_v3[0])"
   ]
  },
  {
   "cell_type": "code",
   "execution_count": 48,
   "metadata": {},
   "outputs": [
    {
     "data": {
      "text/plain": [
       "\"New York, because of its vibrant city life and diversity. because of its vibrant city life and diversity. Additionally, It's home to the largest metropolitan zoo in the US.\""
      ]
     },
     "execution_count": 48,
     "metadata": {},
     "output_type": "execute_result"
    }
   ],
   "source": [
    "# Reproduce call to pandas from code interpreter\n",
    "import csv\n",
    "\n",
    "# Define the target individual\n",
    "target_name = \"Tina Escobar\"\n",
    "favorite_city_info = None\n",
    "\n",
    "# Read through the CSV file\n",
    "with open('tse_takehome_dataset.csv', mode='r', encoding='utf-8') as csvfile:\n",
    "    reader = csv.DictReader(csvfile)\n",
    "    for row in reader:\n",
    "        if row['name'] == target_name:\n",
    "            # Capture the 'favourite_city_and_why' details for Tina Escobar\n",
    "            favorite_city_info = row.get('favourite_city_and_why', None)\n",
    "            break\n",
    "\n",
    "favorite_city_info\n"
   ]
  },
  {
   "cell_type": "markdown",
   "metadata": {},
   "source": [
    "### Improved Assistant - Better Instructions"
   ]
  },
  {
   "cell_type": "markdown",
   "metadata": {},
   "source": [
    "Assistant with more specific instructions and basic prompt"
   ]
  },
  {
   "cell_type": "markdown",
   "metadata": {},
   "source": [
    "##### V1 - Instructions emphasize completeness"
   ]
  },
  {
   "cell_type": "code",
   "execution_count": 10,
   "metadata": {},
   "outputs": [],
   "source": [
    "improved_instruct_assistant = create_assistant(instructions='You are tasked with providing complete and untruncated answers to questions.  When reviewing information in a CSV, ensure you have access to the full and untruncated information in each field.  You should prioritize completeness over being concise.')"
   ]
  },
  {
   "cell_type": "code",
   "execution_count": 11,
   "metadata": {},
   "outputs": [],
   "source": [
    "# Prompt Assistant\n",
    "improved_instruct_response = prompt_assistant(assistant=improved_instruct_assistant, prompt='Tell me Tina Escobars favorite city and why', file_path='tse_takehome_dataset.csv')"
   ]
  },
  {
   "cell_type": "code",
   "execution_count": 12,
   "metadata": {},
   "outputs": [
    {
     "name": "stdout",
     "output_type": "stream",
     "text": [
      "\n",
      "Tool Call Input:\n",
      "import PyPDF2\n",
      "\n",
      "# Open the uploaded PDF file\n",
      "file_path = '/mnt/data/file-DpQGnN8w6fdzztWXB8NoxM'\n",
      "\n",
      "# Read the PDF content\n",
      "with open(file_path, \"rb\") as file:\n",
      "    pdf_reader = PyPDF2.PdfReader(file)\n",
      "    # Extract text from each page\n",
      "    pdf_text = []\n",
      "    for page in pdf_reader.pages:\n",
      "        pdf_text.append(page.extract_text())\n",
      "\n",
      "# Join all text into a single string\n",
      "pdf_content = \" \".join(pdf_text)\n",
      "pdf_content[:1000]  # Display the first 1000 characters for inspection\n",
      "\n",
      "Assistant Response: It seems that the file you uploaded is a malformed PDF, and I am unable to extract text using the standard PDF reading library. However, we can try a different approach using a more robust method to view some parts of the content. Let's attempt extracting text using an alternative method.\n",
      "\n",
      "Tool Call Input:\n",
      "import fitz  # PyMuPDF\n",
      "\n",
      "# Open the PDF file with PyMuPDF\n",
      "pdf_document = fitz.open(file_path)\n",
      "\n",
      "# Extract text using PyMuPDF\n",
      "pdf_text_mupdf = []\n",
      "for page_num in range(len(pdf_document)):\n",
      "    page = pdf_document.load_page(page_num)\n",
      "    pdf_text_mupdf.append(page.get_text())\n",
      "\n",
      "# Join the extracted text\n",
      "pdf_content_mupdf = \" \".join(pdf_text_mupdf)\n",
      "pdf_document.close()\n",
      "\n",
      "# Display the first 1000 characters for inspection\n",
      "pdf_content_mupdf[:1000]\n",
      "\n",
      "Assistant Response: Both standard and alternative methods have failed to read the content from your PDF file because it appears to be corrupt or malformed. Unfortunately, without access to a valid PDF file, I'm unable to retrieve the information about Tina Escobar's favorite city and the reason for her preference directly from the document.\n",
      "\n",
      "If possible, you may want to check the file for errors, see if there is another copy available, or provide the details in another format. Alternatively, you can provide more context or the specific details directly, if you have access to them.\n"
     ]
    }
   ],
   "source": [
    "# Print conversation output  DO NOT RERUN!!!!!!!!!!!!!!!!!!!!!!!!!!!!!\n",
    "print(improved_instruct_response[0])"
   ]
  },
  {
   "cell_type": "code",
   "execution_count": null,
   "metadata": {},
   "outputs": [
    {
     "data": {
      "text/plain": [
       "\"New York, because of its vibrant city life and diversity. because of its vibrant city life and diversity. Additionally, It's home to the largest metropolitan zoo in the US.\""
      ]
     },
     "execution_count": 49,
     "metadata": {},
     "output_type": "execute_result"
    }
   ],
   "source": [
    "# Extracting the row where Tina Escobar is mentioned\n",
    "tina_escobar_info = df[df['name'] == 'Tina Escobar']\n",
    "\n",
    "# Retrieving her favorite city and the reason\n",
    "tina_favorite_city = tina_escobar_info[['favourite_city_and_why']].values[0][0]\n",
    "tina_favorite_city"
   ]
  },
  {
   "cell_type": "markdown",
   "metadata": {},
   "source": [
    "##### V2 - Instructions direct assistant to extract to dict"
   ]
  },
  {
   "cell_type": "code",
   "execution_count": 15,
   "metadata": {},
   "outputs": [],
   "source": [
    "improved_instruct_assistant_v2 = create_assistant(instructions='You are tasked with providing complete and untruncated answers to questions.  You are required to convert CSVs into dicts and ONLY use the dict to answer your question.')"
   ]
  },
  {
   "cell_type": "code",
   "execution_count": 16,
   "metadata": {},
   "outputs": [],
   "source": [
    "# Prompt Assistant\n",
    "improved_instruct_response_v2 = prompt_assistant(assistant=improved_instruct_assistant_v2, prompt='Tell me Tina Escobars favorite city and why', file_path='tse_takehome_dataset.csv')"
   ]
  },
  {
   "cell_type": "code",
   "execution_count": 17,
   "metadata": {},
   "outputs": [
    {
     "name": "stdout",
     "output_type": "stream",
     "text": [
      "\n",
      "Assistant Response: To find out Tina Escobar's favorite city and the reasons why, I'll first need to examine the contents of the uploaded file. Let's read the file to extract the relevant information.\n",
      "\n",
      "Tool Call Input:\n",
      "# Let's open and read the contents of the uploaded file to find information about Tina Escobar's favorite city.\n",
      "file_path = '/mnt/data/file-BA1uB5Zfdx8EmJKw3sCm1C'\n",
      "\n",
      "with open(file_path, 'r', encoding='utf-8') as file:\n",
      "    content = file.read()\n",
      "\n",
      "content[:1000]  # Display the first 1000 characters for inspection.\n",
      "\n",
      "Assistant Response: The file appears to be a CSV containing detailed information about individuals, including their favorite city and the reasons for their preference. To locate the specific information about Tina Escobar, I'll parse the CSV data and extract her details.\n",
      "\n",
      "Tool Call Input:\n",
      "import csv\n",
      "\n",
      "# Parse the CSV content to extract information about Tina Escobar\n",
      "tina_info = None\n",
      "\n",
      "with open(file_path, newline='', encoding='utf-8') as csvfile:\n",
      "    reader = csv.DictReader(csvfile)\n",
      "    # Search for Tina Escobar's information\n",
      "    for row in reader:\n",
      "        if row['name'].strip() == 'Tina Escobar':\n",
      "            tina_info = row\n",
      "            break\n",
      "\n",
      "tina_info['favourite_city_and_why'] if tina_info else \"Tina Escobar's information not found.\"\n",
      "\n",
      "Assistant Response: Tina Escobar's favorite city is New York. She loves it for its vibrant city life and diversity. Additionally, she appreciates that it is home to the largest metropolitan zoo in the United States.\n"
     ]
    }
   ],
   "source": [
    "# Print conversation output  DO NOT RERUN!!!!!!!!!!!!!!!!!!!!!!!!!!!!!\n",
    "print(improved_instruct_response_v2[0])"
   ]
  },
  {
   "cell_type": "code",
   "execution_count": 3,
   "metadata": {},
   "outputs": [
    {
     "data": {
      "text/plain": [
       "\"New York, because of its vibrant city life and diversity. because of its vibrant city life and diversity. Additionally, It's home to the largest metropolitan zoo in the US.\""
      ]
     },
     "execution_count": 3,
     "metadata": {},
     "output_type": "execute_result"
    }
   ],
   "source": [
    "# Parse the CSV content to extract information about Tina Escobar\n",
    "tina_info = None\n",
    "\n",
    "with open('tse_takehome_dataset.csv', newline='', encoding='utf-8') as csvfile:\n",
    "    reader = csv.DictReader(csvfile)\n",
    "    # Search for Tina Escobar's information\n",
    "    for row in reader:\n",
    "        if row['name'].strip() == 'Tina Escobar':\n",
    "            tina_info = row\n",
    "            break\n",
    "\n",
    "tina_info['favourite_city_and_why'] if tina_info else \"Tina Escobar's information not found.\"\n"
   ]
  },
  {
   "cell_type": "markdown",
   "metadata": {},
   "source": [
    "### Improved Assistant - Hybrid"
   ]
  },
  {
   "cell_type": "code",
   "execution_count": 4,
   "metadata": {},
   "outputs": [],
   "source": [
    "improved_hybrid_assistant = create_assistant(instructions='You are tasked with providing complete and untruncated answers to questions.  You will prioritize completeness over being concise. You are required to convert CSVs into dicts and ONLY use the dict to answer your question.')"
   ]
  },
  {
   "cell_type": "code",
   "execution_count": 5,
   "metadata": {},
   "outputs": [],
   "source": [
    "# Prompt Assistant\n",
    "improved_hybrid_response = prompt_assistant(assistant=improved_hybrid_assistant, prompt='Tell me Tina Escobars favorite city and why, including ALL details in the relevant field.', file_path='tse_takehome_dataset.csv')"
   ]
  },
  {
   "cell_type": "code",
   "execution_count": 6,
   "metadata": {},
   "outputs": [
    {
     "name": "stdout",
     "output_type": "stream",
     "text": [
      "\n",
      "Assistant Response: Let's first open and examine the contents of the uploaded file to locate the information about Tina Escobar's favorite city and the reasons behind it.\n",
      "\n",
      "Tool Call Input:\n",
      "# Let's open the uploaded file and check its contents to find information about Tina Escobar's favorite city.\n",
      "file_path = '/mnt/data/file-NmhvG9QhEkVKhG9YCeJoXR'\n",
      "\n",
      "# First, let's read the uploaded file. We need to determine the format (e.g., text, json, csv) to extract the data properly.\n",
      "with open(file_path, 'rb') as file:\n",
      "    file_content = file.read()\n",
      "\n",
      "# For inspection, let's try to decode the content as text initially, as it's a common format for small files.\n",
      "try:\n",
      "    content = file_content.decode('utf-8')\n",
      "except UnicodeDecodeError:\n",
      "    # If decoding as utf-8 fails, it might be a binary file or a different encoding.\n",
      "    content = None\n",
      "\n",
      "content[:500] if content else \"Binary or binary-like file\"\n",
      "\n",
      "Assistant Response: The uploaded file appears to be a CSV file with column headers. The relevant field for Tina Escobar's favorite city and the reasons behind it is likely labeled `favourite_city_and_why`. Let's extract this information from the file.\n",
      "\n",
      "Tool Call Input:\n",
      "import pandas as pd\n",
      "\n",
      "# Load the CSV file into a pandas DataFrame for easier manipulation and searching.\n",
      "df = pd.read_csv(file_path)\n",
      "\n",
      "# Display the column names to verify the appropriate field for Tina Escobar's favorite city and why.\n",
      "df.head(), df.columns\n",
      "\n",
      "Assistant Response: The file contains data organized in a table, and the column `favourite_city_and_why` contains information about each person's favorite city and the reasons why. Tina Escobar's entry is available in this DataFrame. Let's extract and display the specific details for Tina Escobar regarding her favorite city.\n",
      "\n",
      "Tool Call Input:\n",
      "# Extract the row for Tina Escobar to find her favorite city and the reason why.\n",
      "tina_escobar_info = df.loc[df['name'] == 'Tina Escobar', 'favourite_city_and_why'].values\n",
      "\n",
      "# Display Tina Escobar's favorite city and why.\n",
      "tina_escobar_info[0] if tina_escobar_info.size != 0 else \"Information not found\"\n",
      "\n",
      "Assistant Response: Tina Escobar's favorite city is New York. She loves it because of its vibrant city life and diversity. Additionally, she appreciates that it's home to the largest metropolitan zoo in the United States.\n"
     ]
    }
   ],
   "source": [
    "# Print conversation output  DO NOT RERUN!!!!!!!!!!!!!!!!!!!!!!!!!!!!!\n",
    "print(improved_hybrid_response[0])"
   ]
  },
  {
   "cell_type": "code",
   "execution_count": null,
   "metadata": {},
   "outputs": [
    {
     "data": {
      "text/plain": [
       "\"New York, because of its vibrant city life and diversity. because of its vibrant city life and diversity. Additionally, It's home to the largest metropolitan zoo in the US.\""
      ]
     },
     "metadata": {},
     "output_type": "display_data"
    }
   ],
   "source": [
    "# Extracting the row where Tina Escobar is mentioned\n",
    "tina_escobar_info = df[df['name'] == 'Tina Escobar']\n",
    "\n",
    "# Retrieving her favorite city and the reason\n",
    "tina_favorite_city = tina_escobar_info[['favourite_city_and_why']].values[0][0]\n",
    "tina_favorite_city"
   ]
  },
  {
   "cell_type": "markdown",
   "metadata": {},
   "source": [
    "### Advanced Assistant - Experimental?"
   ]
  },
  {
   "cell_type": "code",
   "execution_count": null,
   "metadata": {},
   "outputs": [],
   "source": []
  }
 ],
 "metadata": {
  "kernelspec": {
   "display_name": "openai_project",
   "language": "python",
   "name": "python3"
  },
  "language_info": {
   "codemirror_mode": {
    "name": "ipython",
    "version": 3
   },
   "file_extension": ".py",
   "mimetype": "text/x-python",
   "name": "python",
   "nbconvert_exporter": "python",
   "pygments_lexer": "ipython3",
   "version": "3.13.2"
  }
 },
 "nbformat": 4,
 "nbformat_minor": 2
}
